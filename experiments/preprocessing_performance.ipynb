{
 "cells": [
  {
   "cell_type": "code",
   "execution_count": 3,
   "metadata": {},
   "outputs": [
    {
     "name": "stdout",
     "output_type": "stream",
     "text": [
      "/Users/Yke/Desktop/AI/Thesis/ESA/transit-detection-rnn\n"
     ]
    }
   ],
   "source": [
    "if \"descended\" not in locals():\n",
    "    descended = 1\n",
    "    %cd \"..\"\n",
    "    \n",
    "import utils\n",
    "\n",
    "import os\n",
    "import numpy as np\n",
    "import matplotlib.pyplot as plt\n",
    "import pickle\n",
    "\n",
    "import torch\n",
    "\n",
    "import visualize as vis"
   ]
  },
  {
   "cell_type": "code",
   "execution_count": 4,
   "metadata": {},
   "outputs": [],
   "source": [
    "def plot_results(dic, m, rng=(), split=\"valid\", lbl=\"\", linestyle=\"-\", fill=True, return_c=True, c=None):\n",
    "    x = np.arange(len(dic[\"mean\"][\"metrics\"][\"train\"][()][\"acc\"]))\n",
    "    p = plt.plot(x, dic[\"mean\"][\"metrics\"][split][rng][m], linestyle=linestyle, label=lbl, color=c)\n",
    "    if fill:\n",
    "        plt.fill_between(x, dic[\"mean\"][\"metrics\"][split][rng][m]-dic[\"std\"][\"metrics\"][split][rng][m],\n",
    "                        dic[\"mean\"][\"metrics\"][split][rng][m]+dic[\"std\"][\"metrics\"][split][rng][m], alpha=0.3, color=p[0].get_color())\n",
    "    return p[0].get_color() if return_c else None"
   ]
  },
  {
   "cell_type": "code",
   "execution_count": 5,
   "metadata": {},
   "outputs": [
    {
     "ename": "FileNotFoundError",
     "evalue": "[Errno 2] No such file or directory: 'results/preprocessing'",
     "output_type": "error",
     "traceback": [
      "\u001b[0;31m---------------------------------------------------------------------------\u001b[0m",
      "\u001b[0;31mFileNotFoundError\u001b[0m                         Traceback (most recent call last)",
      "\u001b[0;32m<ipython-input-5-89740824a6df>\u001b[0m in \u001b[0;36m<module>\u001b[0;34m\u001b[0m\n\u001b[0;32m----> 1\u001b[0;31m \u001b[0mos\u001b[0m\u001b[0;34m.\u001b[0m\u001b[0mlistdir\u001b[0m\u001b[0;34m(\u001b[0m\u001b[0;34m\"results/preprocessing\"\u001b[0m\u001b[0;34m)\u001b[0m\u001b[0;34m\u001b[0m\u001b[0;34m\u001b[0m\u001b[0m\n\u001b[0m",
      "\u001b[0;31mFileNotFoundError\u001b[0m: [Errno 2] No such file or directory: 'results/preprocessing'"
     ]
    }
   ],
   "source": [
    "os.listdir(\"results/preprocessing\")"
   ]
  },
  {
   "cell_type": "markdown",
   "metadata": {},
   "source": [
    "## Scaling\n",
    "Scaling by (white-)noise estimate, standardizing, feeding derivatives"
   ]
  },
  {
   "cell_type": "code",
   "execution_count": null,
   "metadata": {},
   "outputs": [],
   "source": [
    "results = {\"mscale0_mode1\":'bigru1_w4snr_sim_mscale0_stddize1_mode1_nanmode0.pkl',\n",
    "           \"mscale1_mode1\":'bigru1_w4snr_sim_mscale1_stddize1_mode1_nanmode0.pkl',\n",
    "           \"mscale1_mode0\":'bigru1_w4snr_sim_mscale1_stddize1_mode0_nanmode0.pkl',\n",
    "           \"mscale0_mode2\":'bigru1_w4snr_sim_mscale0_stddize1_mode2_nanmode0.pkl',\n",
    "           \"mscale0_mode3\":'bigru1_w4snr_sim_mscale0_stddize1_mode3_nanmode0.pkl'}\n",
    "for r in results:\n",
    "    with open(\"results/preprocessing/\"+results[r], \"rb\") as f:\n",
    "        results[r] = pickle.load(f)"
   ]
  },
  {
   "cell_type": "code",
   "execution_count": null,
   "metadata": {},
   "outputs": [],
   "source": [
    "dontshow=[]\n",
    "plt.figure(figsize=(10,4))\n",
    "for mname in [m for m in results if m not in dontshow]:\n",
    "    plot_results(results[mname], \"acc_seg\", split=\"valid\", lbl=mname, fill=1)\n",
    "plt.legend(fontsize=12, bbox_to_anchor=(1,1))\n",
    "\n",
    "plt.tight_layout()\n",
    "plt.show() "
   ]
  },
  {
   "cell_type": "markdown",
   "metadata": {},
   "source": [
    "## Data gaps\n",
    "Simulated gaps, zero-filling, linear interpolation, predicting missing values."
   ]
  },
  {
   "cell_type": "code",
   "execution_count": null,
   "metadata": {},
   "outputs": [],
   "source": [
    "results = {\"nanmode1\":'bigru1_w4snr_simgap_mscale1_stddize1_mode1_nanmode1.pkl',\n",
    "            \"nanmode2\":'bigru1_w4snr_simgap_mscale1_stddize1_mode1_nanmode2.pkl',\n",
    "           \"nanmode0\":'bigru1gen_w4snr_simgap_mscale1_stddize1_mode1_nanmode0.pkl',\n",
    "           \"mscale1_mode1\":'bigru1_w4snr_sim_mscale1_stddize1_mode1_nanmode0.pkl'}\n",
    "for r in results:\n",
    "    with open(\"results/preprocessing/\"+results[r], \"rb\") as f:\n",
    "        results[r] = pickle.load(f)"
   ]
  },
  {
   "cell_type": "code",
   "execution_count": null,
   "metadata": {},
   "outputs": [],
   "source": [
    "dontshow=[]\n",
    "plt.figure(figsize=(10,4))\n",
    "for mname in [m for m in results if m not in dontshow]:\n",
    "    plot_results(results[mname], \"tpr\", split=\"valid\", lbl=mname, fill=0)\n",
    "plt.legend(fontsize=12, bbox_to_anchor=(1,1))\n",
    "\n",
    "plt.tight_layout()\n",
    "plt.show() "
   ]
  },
  {
   "cell_type": "markdown",
   "metadata": {},
   "source": [
    "## Lilith specific\n",
    "Outlier removal, low-risk detrending (compare vs non-scaled flux segments)"
   ]
  },
  {
   "cell_type": "code",
   "execution_count": null,
   "metadata": {},
   "outputs": [],
   "source": []
  },
  {
   "cell_type": "code",
   "execution_count": null,
   "metadata": {},
   "outputs": [],
   "source": []
  }
 ],
 "metadata": {
  "kernelspec": {
   "display_name": "venv",
   "language": "python",
   "name": "venv"
  },
  "language_info": {
   "codemirror_mode": {
    "name": "ipython",
    "version": 3
   },
   "file_extension": ".py",
   "mimetype": "text/x-python",
   "name": "python",
   "nbconvert_exporter": "python",
   "pygments_lexer": "ipython3",
   "version": "3.6.10"
  }
 },
 "nbformat": 4,
 "nbformat_minor": 4
}
