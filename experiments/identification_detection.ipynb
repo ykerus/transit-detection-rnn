{
 "cells": [
  {
   "cell_type": "code",
   "execution_count": 1,
   "metadata": {},
   "outputs": [
    {
     "name": "stdout",
     "output_type": "stream",
     "text": [
      "/Users/Yke/Desktop/AI/Thesis/ESA/transit-detection-rnn\n"
     ]
    }
   ],
   "source": [
    "if \"descended\" not in locals():\n",
    "    descended = 1\n",
    "    %cd \"..\"\n",
    "    \n",
    "import utils\n",
    "\n",
    "import os\n",
    "import torch\n",
    "import numpy as np\n",
    "import matplotlib.pyplot as plt\n",
    "import pickle\n",
    "\n",
    "from simulations import lightcurve_simulation as lcsim\n",
    "import visualize as vis"
   ]
  },
  {
   "cell_type": "code",
   "execution_count": null,
   "metadata": {},
   "outputs": [],
   "source": [
    "def plot_results(dic, m, rng=(), split=\"valid\", lbl=\"\", linestyle=\"-\", fill=True, return_c=True, c=None):\n",
    "    x = np.arange(len(dic[\"mean\"][\"metrics\"][\"train\"][()][\"acc\"]))\n",
    "    p = plt.plot(x, dic[\"mean\"][\"metrics\"][split][rng][m], linestyle=linestyle, label=lbl, color=c)\n",
    "    if fill:\n",
    "        plt.fill_between(x, dic[\"mean\"][\"metrics\"][split][rng][m]-dic[\"std\"][\"metrics\"][split][rng][m],\n",
    "                        dic[\"mean\"][\"metrics\"][split][rng][m]+dic[\"std\"][\"metrics\"][split][rng][m], alpha=0.3, color=c)\n",
    "    return p[0].get_color() if return_c else None"
   ]
  },
  {
   "cell_type": "code",
   "execution_count": null,
   "metadata": {},
   "outputs": [],
   "source": [
    "mnames = list(np.unique([\"_\".join(f.split(\"_\")[:-1]) for f in os.listdir(\"results/training\")]))\n",
    "mnames"
   ]
  },
  {
   "cell_type": "code",
   "execution_count": null,
   "metadata": {},
   "outputs": [],
   "source": [
    "# load training results \n",
    "\n",
    "results = {1500:{}, 500:{}}\n",
    "for N in results:\n",
    "    for mname in mnames:\n",
    "        fname = mname + \"_sim.pkl\" if N==1500 else mname + \"_sim500.pkl\"\n",
    "        try:\n",
    "            with open(\"results/training/\"+fname, \"rb\") as f:\n",
    "                results[N][mname] = pickle.load(f)\n",
    "        except FileNotFoundError:\n",
    "            print('\"'+fname+'\"', \"not found\")\n",
    "        except:\n",
    "            raise"
   ]
  },
  {
   "cell_type": "markdown",
   "metadata": {},
   "source": [
    "## Identification\n",
    "\n",
    "Given an input light curve segment, the task is to classify it as signal or non-signal. "
   ]
  },
  {
   "cell_type": "code",
   "execution_count": null,
   "metadata": {},
   "outputs": [],
   "source": [
    "dontshow=[\"cnn\", \"mlp\", \"gru1\", \"bigru2\", \"bilstm1\", \"rnn_naive\", \"bigru1_w12.6\"]\n",
    "plt.figure(figsize=(10,4))\n",
    "plt.subplot(1,2,1)\n",
    "for mname in [m for m in mnames if m not in dontshow]:\n",
    "    plot_results(results[1500][mname], \"acc_seg\", split=\"valid\", lbl=mname, fill=0)\n",
    "plt.legend(fontsize=12, bbox_to_anchor=(1,1))\n",
    "\n",
    "plt.subplot(1,2,2)\n",
    "for mname in [m for m in mnames if m not in dontshow]:\n",
    "    try:\n",
    "        plot_results(results[500][mname], \"acc_seg\", split=\"valid\", lbl=mname, fill=0)\n",
    "    except:\n",
    "        pass\n",
    "plt.legend(fontsize=12)\n",
    "plt.tight_layout()\n",
    "plt.show()"
   ]
  },
  {
   "cell_type": "markdown",
   "metadata": {},
   "source": [
    "## Detection\n",
    "Given an input light curve (segment), the task is to locate signals in time."
   ]
  },
  {
   "cell_type": "markdown",
   "metadata": {},
   "source": [
    "#### Application to full-length light curves"
   ]
  },
  {
   "cell_type": "code",
   "execution_count": null,
   "metadata": {},
   "outputs": [],
   "source": [
    "def detect(model, flux):\n",
    "    flux_tens = torch.tensor(flux.reshape(1,-1)).type(torch.FloatTensor)\n",
    "    with torch.no_grad():\n",
    "        sigm, _ = model(flux_tens)\n",
    "    return sigm.squeeze()"
   ]
  },
  {
   "cell_type": "code",
   "execution_count": null,
   "metadata": {},
   "outputs": [],
   "source": [
    "rnn = torch.load(\"models/bigru1_sim.pt\")"
   ]
  },
  {
   "cell_type": "code",
   "execution_count": null,
   "metadata": {},
   "outputs": [],
   "source": [
    "np.random.seed(42)\n",
    "lc = lcsim.get_lightcurve(num_planets=2, min_transits=2, period_range=(2,100), t_max=27.4, \n",
    "                          max_attempts=4, max_snr_attempts=10, snr_range=(3,80), \n",
    "                          rdepth_range=(.5,5.), dur_range=(0,utils.hour2day(14)))\n",
    "time, flux, pl_masks, params = lc\n",
    "pl1, pl2 = pl_masks[0], pl_masks[1]\n",
    "nontr = ~np.any(pl_masks, 0)"
   ]
  },
  {
   "cell_type": "code",
   "execution_count": null,
   "metadata": {},
   "outputs": [],
   "source": [
    "flux_ = (flux-1) / params[\"sigma\"] / 2\n",
    "sigm = detect(rnn, flux_)"
   ]
  },
  {
   "cell_type": "code",
   "execution_count": null,
   "metadata": {},
   "outputs": [],
   "source": [
    "plt.figure(figsize=(15,3))\n",
    "plt.subplot(2,1,1)\n",
    "vis.plot(time[nontr], flux[nontr], c=\"black\", a=0.1)\n",
    "for msk in pl_masks:\n",
    "    vis.plot(time[msk], flux[msk], c=plt.plot([])[0].get_color(), a=1)\n",
    "plt.xlim(0,time[-1])\n",
    "\n",
    "plt.subplot(2,1,2)\n",
    "vis.plot(time, sigm, scatter=0)\n",
    "plt.xlim(0,time[-1])"
   ]
  },
  {
   "cell_type": "markdown",
   "metadata": {},
   "source": [
    "#### Training different network architectures"
   ]
  },
  {
   "cell_type": "code",
   "execution_count": null,
   "metadata": {},
   "outputs": [],
   "source": [
    "plt.figure(figsize=(10,4))\n",
    "plt.subplot(1,2,1)\n",
    "for mname in [\"bigru1\"]:\n",
    "    c = plot_results(results[1500][mname], \"tpr\", split=\"valid\", lbl=mname, fill=0, return_c=1)\n",
    "    for rng in list(results[1500][mname][\"mean\"][\"metrics\"][\"valid\"].keys())[1:]:\n",
    "         plot_results(results[1500][mname], \"tpr\", split=\"valid\", lbl=rng, fill=0, c=c, rng=rng)\n",
    "plt.legend()"
   ]
  }
 ],
 "metadata": {
  "kernelspec": {
   "display_name": "venv",
   "language": "python",
   "name": "venv"
  },
  "language_info": {
   "codemirror_mode": {
    "name": "ipython",
    "version": 3
   },
   "file_extension": ".py",
   "mimetype": "text/x-python",
   "name": "python",
   "nbconvert_exporter": "python",
   "pygments_lexer": "ipython3",
   "version": "3.6.10"
  }
 },
 "nbformat": 4,
 "nbformat_minor": 4
}
