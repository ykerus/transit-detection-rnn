{
 "cells": [
  {
   "cell_type": "code",
   "execution_count": 1,
   "metadata": {},
   "outputs": [
    {
     "name": "stdout",
     "output_type": "stream",
     "text": [
      "/Users/Yke/Desktop/AI/Thesis/ESA/transit-detection-rnn\n"
     ]
    }
   ],
   "source": [
    "if \"descended\" not in locals():\n",
    "    descended = 1\n",
    "    %cd \"..\"\n",
    "    \n",
    "import utils\n",
    "\n",
    "import os\n",
    "import numpy as np\n",
    "import matplotlib.pyplot as plt\n",
    "import pickle"
   ]
  },
  {
   "cell_type": "code",
   "execution_count": null,
   "metadata": {},
   "outputs": [],
   "source": [
    "def plot_results(dic, m, rng=(), split=\"valid\", lbl=\"\", linestyle=\"-\", fill=True):\n",
    "    x = np.arange(len(dic[\"mean\"][\"metrics\"][\"train\"][()][\"acc\"]))\n",
    "    plt.plot(x, dic[\"mean\"][\"metrics\"][split][rng][m], linestyle=linestyle, label=lbl)\n",
    "    if fill:\n",
    "        plt.fill_between(x, dic[\"mean\"][\"metrics\"][split][rng][m]-dic[\"std\"][\"metrics\"][split][rng][m],\n",
    "                        dic[\"mean\"][\"metrics\"][split][rng][m]+dic[\"std\"][\"metrics\"][split][rng][m], alpha=0.3)"
   ]
  },
  {
   "cell_type": "code",
   "execution_count": null,
   "metadata": {},
   "outputs": [],
   "source": [
    "# load training results \n",
    "\n",
    "results = {1500:{}, 500:{}}\n",
    "mnames = [\"mlp\", \"cnn\", \"rnn_naive\"]\n",
    "for N in results:\n",
    "    for mname in mnames:\n",
    "        fname = mname + \"_sim.pkl\" if N==1500 else mname + \"_sim500.pkl\"\n",
    "        try:\n",
    "            with open(\"results/\"+fname, \"rb\") as f:\n",
    "                results[N][mname] = pickle.load(f)\n",
    "        except FileNotFoundError:\n",
    "            print('\"'+fname+'\"', \"not found\")\n",
    "        except:\n",
    "            raise"
   ]
  },
  {
   "cell_type": "markdown",
   "metadata": {},
   "source": [
    "## Identification\n",
    "\n",
    "Given an input light curve segment, the task is to classify it as signal or non-signal. "
   ]
  },
  {
   "cell_type": "code",
   "execution_count": null,
   "metadata": {},
   "outputs": [],
   "source": [
    "plt.figure(figsize=(10,4))\n",
    "plt.subplot(1,2,1)\n",
    "for mname in [\"mlp\", \"cnn\", \"rnn_naive\"]:\n",
    "    plot_results(results[1500][mname], \"acc\", split=\"valid\", lbl=mname, fill=0)\n",
    "\n",
    "plt.subplot(1,2,2)\n",
    "for mname in [\"mlp\", \"cnn\"]:\n",
    "    plot_results(results[500][mname], \"acc\", split=\"valid\", lbl=mname, fill=0)\n",
    "plt.show()"
   ]
  },
  {
   "cell_type": "markdown",
   "metadata": {},
   "source": [
    "## Detection\n",
    "Given an input light curve (segment), the task is to locate signals in time."
   ]
  },
  {
   "cell_type": "code",
   "execution_count": null,
   "metadata": {},
   "outputs": [],
   "source": []
  }
 ],
 "metadata": {
  "kernelspec": {
   "display_name": "venv",
   "language": "python",
   "name": "venv"
  },
  "language_info": {
   "codemirror_mode": {
    "name": "ipython",
    "version": 3
   },
   "file_extension": ".py",
   "mimetype": "text/x-python",
   "name": "python",
   "nbconvert_exporter": "python",
   "pygments_lexer": "ipython3",
   "version": "3.6.10"
  }
 },
 "nbformat": 4,
 "nbformat_minor": 4
}
