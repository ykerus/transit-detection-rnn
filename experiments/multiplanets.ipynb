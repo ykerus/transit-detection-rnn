{
 "cells": [
  {
   "cell_type": "code",
   "execution_count": 3,
   "metadata": {},
   "outputs": [],
   "source": [
    "if \"descended\" not in locals():\n",
    "    descended = 1\n",
    "    %cd \"..\"\n",
    "    \n",
    "import utils\n",
    "\n",
    "import os\n",
    "import numpy as np\n",
    "import matplotlib.pyplot as plt\n",
    "from astropy.io import fits"
   ]
  },
  {
   "cell_type": "code",
   "execution_count": 35,
   "metadata": {},
   "outputs": [
    {
     "data": {
      "text/plain": [
       "['.DS_Store',\n",
       " 'dvfiles_curl_filtered.sh',\n",
       " 'lilith4_sector-1-sector-4_dvfiles_curl.sh',\n",
       " 'tess2018192011050-s0001-s0004-0000000038680132-00062_dvt.fits.gz']"
      ]
     },
     "execution_count": 35,
     "metadata": {},
     "output_type": "execute_result"
    }
   ],
   "source": [
    "os.listdir(\"data/lilith/dv\")"
   ]
  },
  {
   "cell_type": "code",
   "execution_count": 36,
   "metadata": {},
   "outputs": [],
   "source": [
    "load_path = \"data/lilith/dv\"\n",
    "fname = \"tess2018192011050-s0001-s0004-0000000038680132-00062_dvt.fits.gz\"\n",
    "\n",
    "hdu = fits.open(load_path + \"/\" + fname)"
   ]
  },
  {
   "cell_type": "code",
   "execution_count": 43,
   "metadata": {},
   "outputs": [
    {
     "data": {
      "text/plain": [
       "XTENSION= 'BINTABLE'           / marks the beginning of a new HDU               \n",
       "BITPIX  =                    8 / array data type                                \n",
       "NAXIS   =                    2 / number of array dimensions                     \n",
       "NAXIS1  =                   44 / length of first array dimension                \n",
       "NAXIS2  =                81195 / length of second array dimension               \n",
       "PCOUNT  =                    0 / group parameter count (not used)               \n",
       "GCOUNT  =                    1 / group count (not used)                         \n",
       "TFIELDS =                   10 / number of table fields                         \n",
       "TTYPE1  = 'TIME    '           / column title: data time stamps                 \n",
       "TFORM1  = 'D       '           / column format: 64-bit floating point           \n",
       "TUNIT1  = 'BJD - 2457000, days' / column units: Barycenter corrected TESS Julian\n",
       "TDISP1  = 'D14.7   '           / column display format                          \n",
       "TTYPE2  = 'TIMECORR'           / column title: barycentric correction           \n",
       "TFORM2  = 'E       '           / column format: 32-bit floating point           \n",
       "TUNIT2  = 'd       '           / column units: Days                             \n",
       "TDISP2  = 'E14.7   '           / column display format                          \n",
       "TTYPE3  = 'CADENCENO'          / column title: unique cadence number            \n",
       "TFORM3  = 'J       '           / column format: signed 32-bit integer           \n",
       "TDISP3  = 'I10     '           / column display format                          \n",
       "TTYPE4  = 'PHASE   '           / column title: Phase using period and epoch     \n",
       "TFORM4  = 'E       '           / column format: 32-bit floating point           \n",
       "TUNIT4  = 'days    '           / column units: [-0.25*period, 0.75*period]      \n",
       "TDISP4  = 'E14.7   '           / column display format                          \n",
       "TTYPE5  = 'LC_INIT '           / column title: Detrended initial light curve (ga\n",
       "TFORM5  = 'E       '           / column format: 32-bit floating point           \n",
       "TUNIT5  = 'dimensionless'      / column units: null                             \n",
       "TDISP5  = 'E14.7   '           / column display format                          \n",
       "TTYPE6  = 'LC_INIT_ERR'        / column title: Error in the detrended initial li\n",
       "TFORM6  = 'E       '           / column format: 32-bit floating point           \n",
       "TUNIT6  = 'dimensionless'      / column units: null                             \n",
       "TDISP6  = 'E14.7   '           / column display format                          \n",
       "TTYPE7  = 'LC_WHITE'           / column title: Initial whitened time series fit \n",
       "TFORM7  = 'E       '           / column format: 32-bit floating point           \n",
       "TUNIT7  = 'dimensionless'      / column units: null                             \n",
       "TDISP7  = 'E14.7   '           / column display format                          \n",
       "TTYPE8  = 'LC_DETREND'         / column title: Initial median detrended time ser\n",
       "TFORM8  = 'E       '           / column format: 32-bit floating point           \n",
       "TUNIT8  = 'dimensionless'      / column units: null                             \n",
       "TDISP8  = 'E14.7   '           / column display format                          \n",
       "TTYPE9  = 'MODEL_INIT'         / column title: Model light curve                \n",
       "TFORM9  = 'E       '           / column format: 32-bit floating point           \n",
       "TUNIT9  = 'dimensionless'      / column units: null                             \n",
       "TDISP9  = 'E14.7   '           / column display format                          \n",
       "TTYPE10 = 'MODEL_WHITE'        / column title: Whitened model light curve       \n",
       "TFORM10 = 'E       '           / column format: 32-bit floating point           \n",
       "TUNIT10 = 'dimensionless'      / column units: null                             \n",
       "TDISP10 = 'E14.7   '           / column display format                          \n",
       "INHERIT =                    T / inherit the primary header                     \n",
       "EXTNAME = 'TCE_1   '           / name of extension                              \n",
       "EXTVER  =                    1 / extension version number (not format version)  \n",
       "SIMDATA =                    T / file is based on simulated data                \n",
       "RADESYS = 'ICRS    '           / reference frame of celestial coordinates       \n",
       "RA_OBJ  =  65.6780821341953000 / [deg] right ascension                          \n",
       "DEC_OBJ = -61.6326444892901000 / [deg] declination                              \n",
       "EQUINOX =               2000.0 / equinox of celestial coordinate system         \n",
       "EXPOSURE=     111.643125000000 / [d] time on source                             \n",
       "TIMEREF = 'SOLARSYSTEM'        / barycentric correction applied to times        \n",
       "TASSIGN = 'SPACECRAFT'         / where time is assigned                         \n",
       "TIMESYS = 'TDB     '           / time system is Barycentric Dynamical Time (TDB)\n",
       "BJDREFI =              2457000 / integer part of BTJD reference date            \n",
       "BJDREFF =           0.00000000 / fraction of the day in BTJD reference date     \n",
       "TIMEUNIT= 'd       '           / time unit for TIME, TSTART and TSTOP           \n",
       "TELAPSE =     112.770833333333 / [d] TSTOP - TSTART                             \n",
       "LIVETIME= 111.6431249999999300 / [d] TELAPSE multiplied by DEADC                \n",
       "TSTART  =    1310.550113541711 / observation start time in BTJD                 \n",
       "TSTOP   =    1423.321895946141 / observation stop time in BTJD                  \n",
       "DATE-OBS= '2018-07-11T01:11:00.626Z' / TSTART as UTC calendar date              \n",
       "DATE-END= '2018-10-31T19:42:22.626Z' / TSTOP as UTC calendar date               \n",
       "DEADC   =   0.9900000000000000 / deadtime correction                            \n",
       "TIMEPIXR=                  0.5 / bin time beginning=0 middle=0.5 end=1          \n",
       "TIERRELA=             1.16E-05 / [d] relative time error                        \n",
       "INT_TIME=       1.980000000000 / [s] photon accumulation time per frame         \n",
       "READTIME=       0.020000000000 / [s] readout time per frame                     \n",
       "FRAMETIM=       2.000000000000 / [s] frame time (INT_TIME + READTIME)           \n",
       "NUM_FRM =                   60 / number of frames per time stamp                \n",
       "TIMEDEL = 0.001388888888888889 / [d] time resolution of data                    \n",
       "TPERIOD =    51.45489169327453 / transit period [days]                          \n",
       "TEPOCH  =   1336.4581651207177 / transit epoch in BTJD                          \n",
       "TDEPTH  =    6175.933691927644 / fitted transit depth [ppm]                     \n",
       "TSNR    =    9.799813270568848 / transit signal-to-noise ratio                  \n",
       "TDUR    =   11.472128759287383 / transit duration [hr]                          \n",
       "INDUR   =   0.7705839292224093 / ingress duration [hr]                          \n",
       "IMPACT  =  0.01251266642216801 / impact parameter                               \n",
       "INCLIN  =     89.9804831099918 / inclination [deg]                              \n",
       "DRRATIO =    36.73346470715937 / ratio of planet distance to star radius        \n",
       "RADRATIO=  0.07197776535583604 / ratio of planet radius to star radius          \n",
       "PRADIUS =     7.85779891797066 / planet radius in earth radii                   \n",
       "MAXMES  =    10.13754653930664 / maximum multi-event statistic                  \n",
       "MAXSES  =    8.504646301269531 / maximum single-event statistic                 \n",
       "NTRANS  =                    2 / number of transits for this TCE                \n",
       "CONVRGE =                    T / convergence yes/no flag                        \n",
       "MEDDETR =                 57.4 / [hour] length of the median detrender in hours "
      ]
     },
     "execution_count": 43,
     "metadata": {},
     "output_type": "execute_result"
    }
   ],
   "source": [
    "hdu[1].header"
   ]
  },
  {
   "cell_type": "code",
   "execution_count": 44,
   "metadata": {},
   "outputs": [
    {
     "data": {
      "text/plain": [
       "('01111', 112.77178240443004)"
      ]
     },
     "execution_count": 44,
     "metadata": {},
     "output_type": "execute_result"
    }
   ],
   "source": [
    "hdu[0].header[\"SECTORS\"],  hdu[0].header[\"TSTOP\"]- hdu[0].header[\"TSTART\"]"
   ]
  },
  {
   "cell_type": "code",
   "execution_count": 46,
   "metadata": {},
   "outputs": [
    {
     "data": {
      "text/plain": [
       "(51.45489169327453,\n",
       " 1336.4581651207177,\n",
       " 0.4780053649703076,\n",
       " 0.006175933691927643)"
      ]
     },
     "execution_count": 46,
     "metadata": {},
     "output_type": "execute_result"
    }
   ],
   "source": [
    "hdu[1].header[\"TPERIOD\"], hdu[1].header[\"TEPOCH\"], hdu[1].header[\"TDUR\"]/24, hdu[1].header[\"TDEPTH\"]*1e-6"
   ]
  },
  {
   "cell_type": "code",
   "execution_count": 47,
   "metadata": {},
   "outputs": [
    {
     "data": {
      "text/plain": [
       "(9.799813270568848, 2)"
      ]
     },
     "execution_count": 47,
     "metadata": {},
     "output_type": "execute_result"
    }
   ],
   "source": [
    "hdu[1].header[\"TSNR\"], hdu[1].header[\"NTRANS\"]"
   ]
  },
  {
   "cell_type": "code",
   "execution_count": 48,
   "metadata": {},
   "outputs": [
    {
     "name": "stdout",
     "output_type": "stream",
     "text": [
      "README.md        \u001b[1m\u001b[36mdetection\u001b[m\u001b[m        \u001b[1m\u001b[36mmodels\u001b[m\u001b[m           \u001b[1m\u001b[36mtraining\u001b[m\u001b[m\r\n",
      "\u001b[1m\u001b[36m__pycache__\u001b[m\u001b[m      \u001b[1m\u001b[36mexperiments\u001b[m\u001b[m      requirements.txt utils.py\r\n",
      "\u001b[1m\u001b[36mdata\u001b[m\u001b[m             \u001b[1m\u001b[36mfigures\u001b[m\u001b[m          \u001b[1m\u001b[36mresults\u001b[m\u001b[m          \u001b[1m\u001b[36mvenv\u001b[m\u001b[m\r\n",
      "\u001b[1m\u001b[36mdataloading\u001b[m\u001b[m      \u001b[1m\u001b[36mlilith\u001b[m\u001b[m           \u001b[1m\u001b[36msimulations\u001b[m\u001b[m      visualize.py\r\n"
     ]
    }
   ],
   "source": [
    "!ls"
   ]
  },
  {
   "cell_type": "code",
   "execution_count": null,
   "metadata": {},
   "outputs": [],
   "source": []
  }
 ],
 "metadata": {
  "kernelspec": {
   "display_name": "venv",
   "language": "python",
   "name": "venv"
  },
  "language_info": {
   "codemirror_mode": {
    "name": "ipython",
    "version": 3
   },
   "file_extension": ".py",
   "mimetype": "text/x-python",
   "name": "python",
   "nbconvert_exporter": "python",
   "pygments_lexer": "ipython3",
   "version": "3.6.10"
  }
 },
 "nbformat": 4,
 "nbformat_minor": 4
}
