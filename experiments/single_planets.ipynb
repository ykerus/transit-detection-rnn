{
 "cells": [
  {
   "cell_type": "code",
   "execution_count": 36,
   "metadata": {},
   "outputs": [],
   "source": [
    "if \"descended\" not in locals():\n",
    "    descended = 1\n",
    "    %cd \"..\"\n",
    "    \n",
    "import utils\n",
    "\n",
    "import os\n",
    "import numpy as np\n",
    "import matplotlib.pyplot as plt\n",
    "import pickle\n",
    "import warnings"
   ]
  },
  {
   "cell_type": "code",
   "execution_count": 2,
   "metadata": {},
   "outputs": [],
   "source": [
    "import utils\n",
    "\n",
    "import os\n",
    "import numpy as np\n",
    "import matplotlib.pyplot as plt\n",
    "import torch\n",
    "\n",
    "from detection import rnn_detection as rnn_det\n",
    "from detection import bls_detection as bls_det\n",
    "from simulations import lightcurve_simulation as lcsim\n",
    "import visualize as vis\n",
    "\n",
    "from dataloading import loading as dl\n",
    "\n",
    "from tqdm import tqdm\n",
    "from scipy.ndimage import gaussian_filter1d\n",
    "\n",
    "from wotan import flatten"
   ]
  },
  {
   "cell_type": "code",
   "execution_count": 3,
   "metadata": {},
   "outputs": [],
   "source": [
    "# fnames = [fnm for fnm in os.listdir(\"data/eval/sim/singleplanet\") if not fnm.startswith(\".\")]\n",
    "\n",
    "# window_lengths = [0.25, 0.5, 1.0]  # days\n",
    "\n",
    "# pbar = tqdm(fnames)\n",
    "# for fname in pbar:\n",
    "#     try:\n",
    "#         bls_detections = {}\n",
    "#         batch = dl.load_data(\"data/eval/sim/singleplanet/\"+fname)\n",
    "#         if batch is None:\n",
    "#             continue\n",
    "#         time = np.arange(len(batch[\"flux\"][0]))*utils.min2day(2)\n",
    "#         for i in range(len(batch[\"flux\"])):\n",
    "#             sampleid = int(batch[\"sampleid\"][i])\n",
    "#             bls_detections[sampleid] = {}\n",
    "#             for wl in window_lengths:\n",
    "#                 flat = flatten(time, batch[\"flux\"][i], method=\"median\", window_length=wl)\n",
    "#                 detected = bls_det.algorithm(time, flat, num_iters=3)\n",
    "#                 bls_detections[sampleid][wl] = detected\n",
    "#         with open(\"results/bls_singles/\"+fname, \"wb\") as f:\n",
    "#             pickle.dump(bls_detections, f)\n",
    "            \n",
    "#     except:\n",
    "#         pbar.close()\n",
    "#         raise"
   ]
  },
  {
   "cell_type": "code",
   "execution_count": 4,
   "metadata": {},
   "outputs": [],
   "source": [
    "# detections = {}\n",
    "# for fnm in [fnm for fnm in os.listdir(\"results/bls_singles\") if not fname.startswith(\".\")]:\n",
    "#     with open(\"results/bls_singles/\"+fnm, \"rb\") as f:\n",
    "#         bls_det_batch = pickle.load(f)\n",
    "#         detections = {**detections, **bls_det_batch}\n",
    "# with open(\"results/bls_single_detections.pkl\", \"wb\") as f:\n",
    "#     pickle.dump(detections, f)"
   ]
  },
  {
   "cell_type": "code",
   "execution_count": 5,
   "metadata": {},
   "outputs": [],
   "source": [
    "# rnn_ = torch.load(\"models/bigru1_w4sqrt_sim.pt\")"
   ]
  },
  {
   "cell_type": "code",
   "execution_count": 6,
   "metadata": {},
   "outputs": [],
   "source": [
    "# mean, std = -0.10192371859533564, 2.6337997430623323  # obtained from training set\n",
    "# fnames = [fnm for fnm in os.listdir(\"data/eval/sim/monotransit\") if not fnm.startswith(\".\")]\n",
    "\n",
    "# rnn_.to(\"cpu\")\n",
    "\n",
    "\n",
    "# pbar = tqdm(fnames)\n",
    "# for fname in pbar:\n",
    "#     try:\n",
    "#         rnn_detections = {}\n",
    "#         batch = dl.load_data(\"data/eval/sim/singleplanet/\"+fname)\n",
    "#         if batch is None:\n",
    "#             continue\n",
    "#         sigma = np.array([batch[\"meta\"][i][\"sigma\"] for i in batch[\"sampleid\"]])\n",
    "#         flux_ = ((batch[\"flux\"]-1) / sigma[:,None] - mean) / std\n",
    "  \n",
    "#         flux_in = flux_.reshape(-1,flux_.shape[-1])\n",
    "#         pts_ = np.zeros_like(flux_in)\n",
    "\n",
    "#         step = 50\n",
    "#         for i in range(step, len(flux_in)+1, step):\n",
    "#             pts_[i-step:i] = rnn_det.get_pts(rnn_, flux_in[i-step:i], additional=False)\n",
    "#             rnn_.to(\"cpu\")\n",
    "\n",
    "#         for i, sampleid in enumerate(batch[\"sampleid\"]):\n",
    "#             detected1 = rnn_det.algorithm1(pts_[i].copy(), num_iters=3, min_transits=3, p_min=2, p_max=None, step_mult=2, \n",
    "#                smooth=True, peak_frac=2, show_steps=False)\n",
    "            \n",
    "#             detected2 = rnn_det.algorithm2(pts_[i], None, num_iters=3, smooth=True, p_min=2)\n",
    "\n",
    "#             rnn_detections[sampleid] = {\"rnn1\":detected1,\n",
    "#                                         \"rnn2\":detected2}\n",
    "#         with open(\"results/rnn_singles/\"+fname, \"wb\") as f:\n",
    "#             pickle.dump(rnn_detections, f)                       \n",
    "\n",
    "#     except:\n",
    "#         pbar.close()\n",
    "#         raise"
   ]
  },
  {
   "cell_type": "code",
   "execution_count": 7,
   "metadata": {},
   "outputs": [],
   "source": [
    "# detections = {}\n",
    "# for fnm in [fnm for fnm in os.listdir(\"results/rnn_singles\") if not fname.startswith(\".\")]:\n",
    "#     with open(\"results/rnn_singles/\"+fnm, \"rb\") as f:\n",
    "#         rnn_det_batch = pickle.load(f)\n",
    "#         detections = {**detections, **rnn_det_batch}\n",
    "# with open(\"results/rnn_single_detections.pkl\", \"wb\") as f:\n",
    "#     pickle.dump(detections, f)"
   ]
  },
  {
   "cell_type": "markdown",
   "metadata": {},
   "source": [
    "## Results"
   ]
  },
  {
   "cell_type": "code",
   "execution_count": 30,
   "metadata": {},
   "outputs": [],
   "source": [
    "def correct_detection(params, detection, dur_factor=1, per_frac=0.01):\n",
    "    # assumes sample (params) contains single planet \n",
    "    if params[\"planets\"] == {}:\n",
    "        print(\"sample contains no planets\")\n",
    "        raise Exception\n",
    "    t0_true = params[\"planets\"][0][\"pl_t0\"]\n",
    "    dur_true = params[\"planets\"][0][\"pl_duration\"]\n",
    "    per_true = params[\"planets\"][0][\"pl_period\"]\n",
    "    t0_correct = (detection[\"t0\"] > (t0_true - 0.5*dur_factor*dur_true)) and \\\n",
    "                 (detection[\"t0\"] < (t0_true + 0.5*dur_factor*dur_true))\n",
    "    per_correct = (1-per_frac)*per_true < detection[\"period\"] and detection[\"period\"] < (1+per_frac)*per_true\n",
    "    correct = (t0_correct and per_correct)\n",
    "    return correct\n",
    "\n",
    "def get_data_params(load_dir=\"data/eval/sim/singleplanet\"):\n",
    "    meta = {}\n",
    "    fnames = [fnm for fnm in os.listdir(load_dir) if not fnm.startswith(\".\")]\n",
    "    for fname in fnames:\n",
    "        batch = dl.load_data(load_dir + \"/\"+fname)\n",
    "        if batch is None:\n",
    "            continue\n",
    "        meta = {**meta, **batch[\"meta\"]}\n",
    "    return meta\n",
    "\n",
    "def get_results(load_pkl, best_only=False):\n",
    "    with open(load_pkl, \"rb\") as f:\n",
    "        detections = pickle.load(f)\n",
    "    if best_only:\n",
    "        for i in detections:\n",
    "            for mname in detections[i]:\n",
    "                if len(list(detections[i][mname].keys())):\n",
    "                    mx = np.max(list(detections[i][mname].keys()))\n",
    "                    detections[i][mname] = {mx:detections[i][mname][mx]}\n",
    "    return detections\n",
    "\n",
    "\n",
    "def evaluate_thresholds(detections, thresholds):\n",
    "    snames = [\"tp\", \"fp\", \"fn\", \"tn\"]\n",
    "    results = {mname:{sname:[] for sname in snames} for mname in detections[0]}\n",
    "    pbar = tqdm(thresholds)\n",
    "    for thr in pbar:  \n",
    "        try:\n",
    "            for mname in detections[0]:\n",
    "                dic = results[mname]\n",
    "                tp = fp = tn = fn = 0\n",
    "                for i in meta:\n",
    "                    contains_planet = len(meta[i][\"planets\"]) > 0\n",
    "                    found_planet = False\n",
    "                    for score, det in detections[i][mname].items():\n",
    "                        if score >= thr:\n",
    "                            if contains_planet > 0 and correct_detection(meta[i], det):\n",
    "                                tp += 1\n",
    "                                found_planet = True \n",
    "                            else:  # no planets in lc or false detection\n",
    "                                fp += 1\n",
    "                    if contains_planet and not found_planet:\n",
    "                        fn += 1\n",
    "                    # true negative is always inf\n",
    "                results[mname][\"tp\"].append(tp), results[mname][\"fp\"].append(fp) \n",
    "                results[mname][\"tn\"].append(tn), results[mname][\"fn\"].append(fn) \n",
    "        except:\n",
    "            pbar.close()\n",
    "            raise\n",
    "    for mname in detections[0]:\n",
    "        for sname in snames:\n",
    "            results[mname][sname] = np.array(results[mname][sname])\n",
    "    return results\n",
    "\n",
    "\n",
    "def get_fpr(dic):\n",
    "    return dic[\"fp\"] / (dic[\"fp\"] + dic[\"tn\"]) \n",
    "    \n",
    "def get_tpr(dic):\n",
    "    # recall\n",
    "    return dic[\"tp\"] / (dic[\"tp\"] + dic[\"fn\"])\n",
    "\n",
    "def get_recall(dic):\n",
    "    return get_tpr(dic)\n",
    "\n",
    "def get_precision(dic):\n",
    "    return dic[\"tp\"] / (dic[\"tp\"] + dic[\"fp\"]) "
   ]
  },
  {
   "cell_type": "code",
   "execution_count": 19,
   "metadata": {},
   "outputs": [],
   "source": [
    "meta = get_data_params()\n",
    "bls_detections = get_results(\"results/bls_single_detections.pkl\")\n",
    "rnn_detections = get_results(\"results/rnn_single_detections.pkl\")\n",
    "rnn_sde_detections = get_results(\"results/rnn_sde_single_detections.pkl\")"
   ]
  },
  {
   "cell_type": "code",
   "execution_count": 25,
   "metadata": {},
   "outputs": [
    {
     "name": "stderr",
     "output_type": "stream",
     "text": [
      "100%|██████████| 50/50 [00:01<00:00, 25.41it/s]\n"
     ]
    }
   ],
   "source": [
    "bls_results = evaluate_thresholds(bls_detections, np.linspace(0,20,50))"
   ]
  },
  {
   "cell_type": "code",
   "execution_count": 26,
   "metadata": {},
   "outputs": [
    {
     "name": "stderr",
     "output_type": "stream",
     "text": [
      "100%|██████████| 50/50 [00:03<00:00, 12.77it/s]\n"
     ]
    }
   ],
   "source": [
    "rnn_results = evaluate_thresholds(rnn_detections, np.linspace(0,3,50))"
   ]
  },
  {
   "cell_type": "code",
   "execution_count": 27,
   "metadata": {},
   "outputs": [
    {
     "name": "stderr",
     "output_type": "stream",
     "text": [
      "100%|██████████| 50/50 [00:00<00:00, 77.98it/s]\n"
     ]
    }
   ],
   "source": [
    "rnn_sde_results = evaluate_thresholds(rnn_sde_detections, np.linspace(0,10,50))"
   ]
  },
  {
   "cell_type": "code",
   "execution_count": 41,
   "metadata": {},
   "outputs": [
    {
     "data": {
      "image/png": "[encoded data removed]",
      "text/plain": [
       "<Figure size 432x288 with 1 Axes>"
      ]
     },
     "metadata": {
      "needs_background": "light"
     },
     "output_type": "display_data"
    }
   ],
   "source": [
    "dontshow=[]\n",
    "onlyshow=[\"rnnc_conf_alg1\", \"rnn_alg1\", \"rnnc_conf_alg2\", \"rnn_alg2\", \"bls_12h\", \"rnn_sde_alg1\"]\n",
    "# onlyshow=[\"rnn_sde_alg1\"]\n",
    "combined_results = {**bls_results, **rnn_results, **rnn_sde_results}\n",
    "with warnings.catch_warnings():\n",
    "    warnings.simplefilter(\"ignore\")\n",
    "    for mname, dic in combined_results.items():\n",
    "        if len(onlyshow)>0:\n",
    "            if mname in onlyshow:\n",
    "    #             plt.plot(dic[\"fp\"], dic[\"tp\"], label=mname)\n",
    "                plt.plot(get_recall(dic), get_precision(dic), label=mname)\n",
    "        elif mname not in dontshow:\n",
    "    #         plt.plot(dic[\"fp\"], dic[\"tp\"], label=mname)\n",
    "            plt.plot(get_recall(dic), get_precision(dic), label=mname)\n",
    "plt.legend(), plt.xlim(-0.05,1.05), plt.ylim(-0.05,1.05)\n",
    "plt.xlabel(\"Recall\", fontsize=14)\n",
    "plt.ylabel(\"Precision\", fontsize=14)\n",
    "plt.show()"
   ]
  },
  {
   "cell_type": "code",
   "execution_count": null,
   "metadata": {},
   "outputs": [],
   "source": []
  }
 ],
 "metadata": {
  "kernelspec": {
   "display_name": "venv",
   "language": "python",
   "name": "venv"
  },
  "language_info": {
   "codemirror_mode": {
    "name": "ipython",
    "version": 3
   },
   "file_extension": ".py",
   "mimetype": "text/x-python",
   "name": "python",
   "nbconvert_exporter": "python",
   "pygments_lexer": "ipython3",
   "version": "3.6.10"
  }
 },
 "nbformat": 4,
 "nbformat_minor": 4
}
