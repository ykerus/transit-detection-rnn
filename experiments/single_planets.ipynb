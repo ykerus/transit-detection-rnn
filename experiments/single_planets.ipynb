{
 "cells": [
  {
   "cell_type": "code",
   "execution_count": 1,
   "metadata": {},
   "outputs": [
    {
     "name": "stdout",
     "output_type": "stream",
     "text": [
      "/Users/Yke/Desktop/AI/Thesis/ESA/transit-detection-rnn\n"
     ]
    }
   ],
   "source": [
    "if \"descended\" not in locals():\n",
    "    descended = 1\n",
    "    %cd \"..\"\n",
    "    \n",
    "import utils\n",
    "\n",
    "import os\n",
    "import numpy as np\n",
    "import matplotlib.pyplot as plt\n",
    "import pickle"
   ]
  },
  {
   "cell_type": "code",
   "execution_count": 2,
   "metadata": {},
   "outputs": [],
   "source": [
    "import utils\n",
    "\n",
    "import os\n",
    "import numpy as np\n",
    "import matplotlib.pyplot as plt\n",
    "import torch\n",
    "\n",
    "from detection import rnn_detection as rnn_det\n",
    "from detection import bls_detection as bls_det\n",
    "from simulations import lightcurve_simulation as lcsim\n",
    "import visualize as vis\n",
    "\n",
    "from dataloading import loading as dl\n",
    "\n",
    "from tqdm import tqdm\n",
    "from scipy.ndimage import gaussian_filter1d\n",
    "\n",
    "from wotan import flatten"
   ]
  },
  {
   "cell_type": "code",
   "execution_count": 3,
   "metadata": {},
   "outputs": [],
   "source": [
    "# fnames = [fnm for fnm in os.listdir(\"data/eval/sim/singleplanet\") if not fnm.startswith(\".\")]\n",
    "\n",
    "# window_lengths = [0.25, 0.5, 1.0]  # days\n",
    "\n",
    "# pbar = tqdm(fnames)\n",
    "# for fname in pbar:\n",
    "#     try:\n",
    "#         bls_detections = {}\n",
    "#         batch = dl.load_data(\"data/eval/sim/singleplanet/\"+fname)\n",
    "#         if batch is None:\n",
    "#             continue\n",
    "#         time = np.arange(len(batch[\"flux\"][0]))*utils.min2day(2)\n",
    "#         for i in range(len(batch[\"flux\"])):\n",
    "#             sampleid = int(batch[\"sampleid\"][i])\n",
    "#             bls_detections[sampleid] = {}\n",
    "#             for wl in window_lengths:\n",
    "#                 flat = flatten(time, batch[\"flux\"][i], method=\"median\", window_length=wl)\n",
    "#                 detected = bls_det.algorithm(time, flat, num_iters=3)\n",
    "#                 bls_detections[sampleid][wl] = detected\n",
    "#         with open(\"results/bls_singles/\"+fname, \"wb\") as f:\n",
    "#             pickle.dump(bls_detections, f)\n",
    "            \n",
    "#     except:\n",
    "#         pbar.close()\n",
    "#         raise"
   ]
  },
  {
   "cell_type": "code",
   "execution_count": 4,
   "metadata": {},
   "outputs": [],
   "source": [
    "# detections = {}\n",
    "# for fnm in [fnm for fnm in os.listdir(\"results/bls_singles\") if not fname.startswith(\".\")]:\n",
    "#     with open(\"results/bls_singles/\"+fnm, \"rb\") as f:\n",
    "#         bls_det_batch = pickle.load(f)\n",
    "#         detections = {**detections, **bls_det_batch}\n",
    "# with open(\"results/bls_single_detections.pkl\", \"wb\") as f:\n",
    "#     pickle.dump(detections, f)"
   ]
  },
  {
   "cell_type": "code",
   "execution_count": 5,
   "metadata": {},
   "outputs": [],
   "source": [
    "# rnn_ = torch.load(\"models/bigru1_w4sqrt_sim.pt\")"
   ]
  },
  {
   "cell_type": "code",
   "execution_count": 6,
   "metadata": {},
   "outputs": [],
   "source": [
    "# mean, std = -0.10192371859533564, 2.6337997430623323  # obtained from training set\n",
    "# fnames = [fnm for fnm in os.listdir(\"data/eval/sim/monotransit\") if not fnm.startswith(\".\")]\n",
    "\n",
    "# rnn_.to(\"cpu\")\n",
    "\n",
    "\n",
    "# pbar = tqdm(fnames)\n",
    "# for fname in pbar:\n",
    "#     try:\n",
    "#         rnn_detections = {}\n",
    "#         batch = dl.load_data(\"data/eval/sim/singleplanet/\"+fname)\n",
    "#         if batch is None:\n",
    "#             continue\n",
    "#         sigma = np.array([batch[\"meta\"][i][\"sigma\"] for i in batch[\"sampleid\"]])\n",
    "#         flux_ = ((batch[\"flux\"]-1) / sigma[:,None] - mean) / std\n",
    "  \n",
    "#         flux_in = flux_.reshape(-1,flux_.shape[-1])\n",
    "#         pts_ = np.zeros_like(flux_in)\n",
    "\n",
    "#         step = 50\n",
    "#         for i in range(step, len(flux_in)+1, step):\n",
    "#             pts_[i-step:i] = rnn_det.get_pts(rnn_, flux_in[i-step:i], additional=False)\n",
    "#             rnn_.to(\"cpu\")\n",
    "\n",
    "#         for i, sampleid in enumerate(batch[\"sampleid\"]):\n",
    "#             detected1 = rnn_det.algorithm1(pts_[i].copy(), num_iters=3, min_transits=3, p_min=2, p_max=None, step_mult=2, \n",
    "#                smooth=True, peak_frac=2, show_steps=False)\n",
    "            \n",
    "#             detected2 = rnn_det.algorithm2(pts_[i], None, num_iters=3, smooth=True, p_min=2)\n",
    "\n",
    "#             rnn_detections[sampleid] = {\"rnn1\":detected1,\n",
    "#                                         \"rnn2\":detected2}\n",
    "#         with open(\"results/rnn_singles/\"+fname, \"wb\") as f:\n",
    "#             pickle.dump(rnn_detections, f)                       \n",
    "\n",
    "#     except:\n",
    "#         pbar.close()\n",
    "#         raise"
   ]
  },
  {
   "cell_type": "code",
   "execution_count": 7,
   "metadata": {},
   "outputs": [],
   "source": [
    "# detections = {}\n",
    "# for fnm in [fnm for fnm in os.listdir(\"results/rnn_singles\") if not fname.startswith(\".\")]:\n",
    "#     with open(\"results/rnn_singles/\"+fnm, \"rb\") as f:\n",
    "#         rnn_det_batch = pickle.load(f)\n",
    "#         detections = {**detections, **rnn_det_batch}\n",
    "# with open(\"results/rnn_single_detections.pkl\", \"wb\") as f:\n",
    "#     pickle.dump(detections, f)"
   ]
  },
  {
   "cell_type": "markdown",
   "metadata": {},
   "source": [
    "## Results"
   ]
  },
  {
   "cell_type": "code",
   "execution_count": 66,
   "metadata": {},
   "outputs": [],
   "source": [
    "with open(\"results/bls_single_detections.pkl\", \"rb\") as f:\n",
    "    bls_detections = pickle.load(f)\n",
    "    \n",
    "best_only = False\n",
    "if best_only:\n",
    "    for i in bls_detections:\n",
    "        for mname in bls_detections[i]:\n",
    "            if len(list(bls_detections[i][mname].keys())):\n",
    "                mx = np.max(list(bls_detections[i][mname].keys()))\n",
    "                bls_detections[i][mname] = {mx:bls_detections[i][mname][mx]}"
   ]
  },
  {
   "cell_type": "code",
   "execution_count": 67,
   "metadata": {},
   "outputs": [],
   "source": [
    "meta = {}\n",
    "fnames = [fnm for fnm in os.listdir(\"data/eval/sim/singleplanet\") if not fnm.startswith(\".\")]\n",
    "for fname in fnames:\n",
    "    batch = dl.load_data(\"data/eval/sim/singleplanet/\"+fname)\n",
    "    if batch is None:\n",
    "        continue\n",
    "    meta = {**meta, **batch[\"meta\"]}"
   ]
  },
  {
   "cell_type": "code",
   "execution_count": 98,
   "metadata": {},
   "outputs": [],
   "source": [
    "def correct_detection(params, detection, dur_factor=1, per_frac=0.01):\n",
    "    # assumes sample (params) contains single planet \n",
    "    if params[\"planets\"] == {}:\n",
    "        print(\"sample contains no planets\")\n",
    "        raise Exception\n",
    "    t0_true = params[\"planets\"][0][\"pl_t0\"]\n",
    "    dur_true = params[\"planets\"][0][\"pl_duration\"]\n",
    "    per_true = params[\"planets\"][0][\"pl_period\"]\n",
    "    t0_correct = (detection[\"t0\"] > (t0_true - 0.5*dur_factor*dur_true)) and \\\n",
    "                 (detection[\"t0\"] < (t0_true + 0.5**dur_factor*dur_true))\n",
    "    per_correct = (1-per_frac)*per_true < detection[\"period\"] and detection[\"period\"] < (1+per_frac)*per_true\n",
    "    correct = (t0_correct and per_correct)\n",
    "    return correct\n",
    "\n",
    "def get_fpr(dic):\n",
    "    return dic[\"fp\"] / (dic[\"fp\"] + dic[\"tn\"]) \n",
    "    \n",
    "def get_tpr(dic):\n",
    "    # recall\n",
    "    return dic[\"tp\"] / (dic[\"tp\"] + dic[\"fn\"]) \n",
    "\n",
    "def get_precion(dic):\n",
    "    return dic[\"tp\"] / (dic[\"tp\"] + dic[\"fp\"]) "
   ]
  },
  {
   "cell_type": "code",
   "execution_count": 69,
   "metadata": {},
   "outputs": [
    {
     "name": "stderr",
     "output_type": "stream",
     "text": [
      "100%|██████████| 100/100 [00:09<00:00, 10.56it/s]\n"
     ]
    }
   ],
   "source": [
    "thresholds = np.linspace(0,20,100)\n",
    "snames = [\"tp\", \"fp\", \"fn\", \"tn\"]\n",
    "mnames = [0.25, 0.5, 1.0]\n",
    "\n",
    "bls6h = {sname:[] for sname in snames}\n",
    "bls12h = {sname:[] for sname in snames}\n",
    "bls24h = {sname:[] for sname in snames}\n",
    "\n",
    "pbar = tqdm(thresholds)\n",
    "for thr in pbar:  \n",
    "    try:\n",
    "        for dic, mname in zip([bls6h, bls12h, bls24h], mnames):\n",
    "            tp = fp = tn = fn = 0\n",
    "            for i in meta:\n",
    "                for score, det in bls_detections[i][mname].items():\n",
    "                    if score >= thr:\n",
    "                        if len(meta[i][\"planets\"]) > 0 and correct_detection(meta[i], det):\n",
    "                            tp += 1\n",
    "                        else:  # no planets in lc or false detection\n",
    "                            fp += 1\n",
    "                    else: # score < thr\n",
    "                        if len(meta[i][\"planets\"]) > 0 and correct_detection(meta[i], det):\n",
    "                            fn += 1 # !! = positives - tp\n",
    "                        else:\n",
    "                            tn += 1 # !! actually all detections (=inf) < threshold\n",
    "                        \n",
    "            if mname == 0.25:\n",
    "                bls6h[\"tp\"].append(tp), bls6h[\"fp\"].append(fp)\n",
    "                bls6h[\"tn\"].append(tn), bls6h[\"fn\"].append(fn)\n",
    "\n",
    "            elif mname == 0.5:\n",
    "                bls12h[\"tp\"].append(tp), bls12h[\"fp\"].append(fp)\n",
    "                bls12h[\"tn\"].append(tn), bls12h[\"fn\"].append(fn)\n",
    "\n",
    "            elif mname == 1.:\n",
    "                bls24h[\"tp\"].append(tp), bls24h[\"fp\"].append(fp)\n",
    "                bls24h[\"tn\"].append(tn), bls24h[\"fn\"].append(fn)\n",
    "    except:\n",
    "        pbar.close()\n",
    "        raise"
   ]
  },
  {
   "cell_type": "code",
   "execution_count": 70,
   "metadata": {},
   "outputs": [],
   "source": [
    "for sname in snames:\n",
    "    bls6h[sname] = np.array(bls6h[sname])\n",
    "    bls12h[sname] = np.array(bls12h[sname])\n",
    "    bls24h[sname] = np.array(bls24h[sname])"
   ]
  },
  {
   "cell_type": "code",
   "execution_count": 71,
   "metadata": {},
   "outputs": [
    {
     "data": {
      "text/plain": [
       "<matplotlib.legend.Legend at 0x14c931c18>"
      ]
     },
     "execution_count": 71,
     "metadata": {},
     "output_type": "execute_result"
    },
    {
     "data": {
      "image/png": "[encoded data removed]",
      "text/plain": [
       "<Figure size 432x288 with 1 Axes>"
      ]
     },
     "metadata": {
      "needs_background": "light"
     },
     "output_type": "display_data"
    }
   ],
   "source": [
    "mnames = [0.25, 0.5, 1.0]\n",
    "for dic, mname in zip([bls6h, bls12h, bls24h], mnames):\n",
    "#     plt.plot(get_fpr(dic), get_tpr(dic), label=mname)\n",
    "    plt.plot(dic[\"fp\"], dic[\"tp\"], label=mname)\n",
    "# plt.xlim(0,0.2)\n",
    "# plt.ylim(0.8, 1)\n",
    "plt.legend()"
   ]
  },
  {
   "cell_type": "code",
   "execution_count": 117,
   "metadata": {},
   "outputs": [],
   "source": [
    "with open(\"results/rnn_single_detections.pkl\", \"rb\") as f:\n",
    "    rnn_detections = pickle.load(f)\n",
    "    \n",
    "best_only = False\n",
    "\n",
    "if best_only:\n",
    "    for i in rnn_detections:\n",
    "        for mname in rnn_detections[i]:\n",
    "            if len(list(rnn_detections[i][mname].keys())):\n",
    "                mx = np.max(list(rnn_detections[i][mname].keys()))\n",
    "                rnn_detections[i][mname] = {mx:rnn_detections[i][mname][mx]}"
   ]
  },
  {
   "cell_type": "code",
   "execution_count": 118,
   "metadata": {},
   "outputs": [
    {
     "name": "stderr",
     "output_type": "stream",
     "text": [
      "100%|██████████| 100/100 [00:06<00:00, 14.63it/s]\n"
     ]
    }
   ],
   "source": [
    "thresholds = np.linspace(0,3,100)\n",
    "snames = [\"tp\", \"fp\", \"fn\", \"tn\"]\n",
    "mnames = [\"rnn1\", \"rnn2\"]\n",
    "\n",
    "rnn1 = {sname:[] for sname in snames}\n",
    "rnn2 = {sname:[] for sname in snames}\n",
    "\n",
    "pbar = tqdm(thresholds)\n",
    "for thr in pbar:  \n",
    "    try:\n",
    "        for dic, mname in zip([rnn1, rnn2], mnames):\n",
    "            tp = fp = tn = fn = 0\n",
    "            for i in meta:\n",
    "                \n",
    "                for score, det in rnn_detections[i][mname].items():\n",
    "                    if score >= thr:\n",
    "                        if len(meta[i][\"planets\"]) > 0 and correct_detection(meta[i], det):\n",
    "                            tp += 1\n",
    "                        else:  # no planets in lc or false detection\n",
    "                            fp += 1\n",
    "                    else: # score < thr\n",
    "                        if len(meta[i][\"planets\"]) > 0 and correct_detection(meta[i], det):\n",
    "                            fn += 1\n",
    "                        else:\n",
    "                            tn += 1\n",
    "                            \n",
    "            if mname == \"rnn1\":\n",
    "                rnn1[\"tp\"].append(tp), rnn1[\"fp\"].append(fp)\n",
    "                rnn1[\"tn\"].append(tn), rnn1[\"fn\"].append(fn)\n",
    "\n",
    "            elif mname == \"rnn2\":\n",
    "                rnn2[\"tp\"].append(tp), rnn2[\"fp\"].append(fp)\n",
    "                rnn2[\"tn\"].append(tn), rnn2[\"fn\"].append(fn)\n",
    "\n",
    "    except:\n",
    "        pbar.close()\n",
    "        raise"
   ]
  },
  {
   "cell_type": "code",
   "execution_count": 119,
   "metadata": {},
   "outputs": [],
   "source": [
    "for sname in snames:\n",
    "    rnn1[sname] = np.array(rnn1[sname])\n",
    "    rnn2[sname] = np.array(rnn2[sname])"
   ]
  },
  {
   "cell_type": "code",
   "execution_count": 126,
   "metadata": {},
   "outputs": [],
   "source": [
    "mnames = [0.25, 0.5, 1.0, \"rnn1\", \"rnn2\"]\n",
    "for dic, mname in zip([bls6h, bls12h, bls24h, rnn1, rnn2], mnames):\n",
    "#     plt.plot(get_fpr(dic), get_tpr(dic), label=str(mname))\n",
    "    plt.plot(dic[\"fp\"], dic[\"tp\"], label=mname)\n",
    "# plt.xlim(0,0.4)\n",
    "# plt.ylim(0.6, 1)\n",
    "plt.legend()"
   ]
  },
  {
   "cell_type": "code",
   "execution_count": null,
   "metadata": {},
   "outputs": [],
   "source": []
  }
 ],
 "metadata": {
  "kernelspec": {
   "display_name": "venv",
   "language": "python",
   "name": "venv"
  },
  "language_info": {
   "codemirror_mode": {
    "name": "ipython",
    "version": 3
   },
   "file_extension": ".py",
   "mimetype": "text/x-python",
   "name": "python",
   "nbconvert_exporter": "python",
   "pygments_lexer": "ipython3",
   "version": "3.6.10"
  }
 },
 "nbformat": 4,
 "nbformat_minor": 4
}
