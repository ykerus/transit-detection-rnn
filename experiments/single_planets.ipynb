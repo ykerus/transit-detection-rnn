{
 "cells": [
  {
   "cell_type": "code",
   "execution_count": 36,
   "metadata": {},
   "outputs": [],
   "source": [
    "if \"descended\" not in locals():\n",
    "    descended = 1\n",
    "    %cd \"..\"\n",
    "    \n",
    "import utils\n",
    "\n",
    "import os\n",
    "import numpy as np\n",
    "import matplotlib.pyplot as plt\n",
    "import pickle\n",
    "import warnings"
   ]
  },
  {
   "cell_type": "code",
   "execution_count": 2,
   "metadata": {},
   "outputs": [],
   "source": [
    "import utils\n",
    "\n",
    "import os\n",
    "import numpy as np\n",
    "import matplotlib.pyplot as plt\n",
    "import torch\n",
    "\n",
    "from detection import rnn_detection as rnn_det\n",
    "from detection import bls_detection as bls_det\n",
    "from simulations import lightcurve_simulation as lcsim\n",
    "import visualize as vis\n",
    "\n",
    "from dataloading import loading as dl\n",
    "\n",
    "from tqdm import tqdm\n",
    "from scipy.ndimage import gaussian_filter1d\n",
    "\n",
    "from wotan import flatten"
   ]
  },
  {
   "cell_type": "code",
   "execution_count": 3,
   "metadata": {},
   "outputs": [],
   "source": [
    "# fnames = [fnm for fnm in os.listdir(\"data/eval/sim/singleplanet\") if not fnm.startswith(\".\")]\n",
    "\n",
    "# window_lengths = [0.25, 0.5, 1.0]  # days\n",
    "\n",
    "# pbar = tqdm(fnames)\n",
    "# for fname in pbar:\n",
    "#     try:\n",
    "#         bls_detections = {}\n",
    "#         batch = dl.load_data(\"data/eval/sim/singleplanet/\"+fname)\n",
    "#         if batch is None:\n",
    "#             continue\n",
    "#         time = np.arange(len(batch[\"flux\"][0]))*utils.min2day(2)\n",
    "#         for i in range(len(batch[\"flux\"])):\n",
    "#             sampleid = int(batch[\"sampleid\"][i])\n",
    "#             bls_detections[sampleid] = {}\n",
    "#             for wl in window_lengths:\n",
    "#                 flat = flatten(time, batch[\"flux\"][i], method=\"median\", window_length=wl)\n",
    "#                 detected = bls_det.algorithm(time, flat, num_iters=3)\n",
    "#                 bls_detections[sampleid][wl] = detected\n",
    "#         with open(\"results/bls_singles/\"+fname, \"wb\") as f:\n",
    "#             pickle.dump(bls_detections, f)\n",
    "            \n",
    "#     except:\n",
    "#         pbar.close()\n",
    "#         raise"
   ]
  },
  {
   "cell_type": "code",
   "execution_count": 4,
   "metadata": {},
   "outputs": [],
   "source": [
    "# detections = {}\n",
    "# for fnm in [fnm for fnm in os.listdir(\"results/bls_singles\") if not fname.startswith(\".\")]:\n",
    "#     with open(\"results/bls_singles/\"+fnm, \"rb\") as f:\n",
    "#         bls_det_batch = pickle.load(f)\n",
    "#         detections = {**detections, **bls_det_batch}\n",
    "# with open(\"results/bls_single_detections.pkl\", \"wb\") as f:\n",
    "#     pickle.dump(detections, f)"
   ]
  },
  {
   "cell_type": "code",
   "execution_count": 5,
   "metadata": {},
   "outputs": [],
   "source": [
    "# rnn_ = torch.load(\"models/bigru1_w4sqrt_sim.pt\")"
   ]
  },
  {
   "cell_type": "code",
   "execution_count": 6,
   "metadata": {},
   "outputs": [],
   "source": [
    "# mean, std = -0.10192371859533564, 2.6337997430623323  # obtained from training set\n",
    "# fnames = [fnm for fnm in os.listdir(\"data/eval/sim/monotransit\") if not fnm.startswith(\".\")]\n",
    "\n",
    "# rnn_.to(\"cpu\")\n",
    "\n",
    "\n",
    "# pbar = tqdm(fnames)\n",
    "# for fname in pbar:\n",
    "#     try:\n",
    "#         rnn_detections = {}\n",
    "#         batch = dl.load_data(\"data/eval/sim/singleplanet/\"+fname)\n",
    "#         if batch is None:\n",
    "#             continue\n",
    "#         sigma = np.array([batch[\"meta\"][i][\"sigma\"] for i in batch[\"sampleid\"]])\n",
    "#         flux_ = ((batch[\"flux\"]-1) / sigma[:,None] - mean) / std\n",
    "  \n",
    "#         flux_in = flux_.reshape(-1,flux_.shape[-1])\n",
    "#         pts_ = np.zeros_like(flux_in)\n",
    "\n",
    "#         step = 50\n",
    "#         for i in range(step, len(flux_in)+1, step):\n",
    "#             pts_[i-step:i] = rnn_det.get_pts(rnn_, flux_in[i-step:i], additional=False)\n",
    "#             rnn_.to(\"cpu\")\n",
    "\n",
    "#         for i, sampleid in enumerate(batch[\"sampleid\"]):\n",
    "#             detected1 = rnn_det.algorithm1(pts_[i].copy(), num_iters=3, min_transits=3, p_min=2, p_max=None, step_mult=2, \n",
    "#                smooth=True, peak_frac=2, show_steps=False)\n",
    "            \n",
    "#             detected2 = rnn_det.algorithm2(pts_[i], None, num_iters=3, smooth=True, p_min=2)\n",
    "\n",
    "#             rnn_detections[sampleid] = {\"rnn1\":detected1,\n",
    "#                                         \"rnn2\":detected2}\n",
    "#         with open(\"results/rnn_singles/\"+fname, \"wb\") as f:\n",
    "#             pickle.dump(rnn_detections, f)                       \n",
    "\n",
    "#     except:\n",
    "#         pbar.close()\n",
    "#         raise"
   ]
  },
  {
   "cell_type": "code",
   "execution_count": 7,
   "metadata": {},
   "outputs": [],
   "source": [
    "# detections = {}\n",
    "# for fnm in [fnm for fnm in os.listdir(\"results/rnn_singles\") if not fname.startswith(\".\")]:\n",
    "#     with open(\"results/rnn_singles/\"+fnm, \"rb\") as f:\n",
    "#         rnn_det_batch = pickle.load(f)\n",
    "#         detections = {**detections, **rnn_det_batch}\n",
    "# with open(\"results/rnn_single_detections.pkl\", \"wb\") as f:\n",
    "#     pickle.dump(detections, f)"
   ]
  },
  {
   "cell_type": "markdown",
   "metadata": {},
   "source": [
    "## Results"
   ]
  },
  {
   "cell_type": "code",
   "execution_count": 76,
   "metadata": {},
   "outputs": [],
   "source": [
    "def correct_detection(params, detection, dur_factor=1, per_frac=0.01):\n",
    "    # assumes sample (params) contains single planet \n",
    "    if params[\"planets\"] == {}:\n",
    "        print(\"sample contains no planets\")\n",
    "        raise Exception\n",
    "    t0_true = params[\"planets\"][0][\"pl_t0\"]\n",
    "    dur_true = params[\"planets\"][0][\"pl_duration\"]\n",
    "    per_true = params[\"planets\"][0][\"pl_period\"]\n",
    "    t0_correct = (detection[\"t0\"] > (t0_true - 0.5*dur_factor*dur_true)) and \\\n",
    "                 (detection[\"t0\"] < (t0_true + 0.5*dur_factor*dur_true))\n",
    "    per_correct = (1-per_frac)*per_true < detection[\"period\"] and detection[\"period\"] < (1+per_frac)*per_true\n",
    "    correct = (t0_correct and per_correct)\n",
    "    return correct\n",
    "\n",
    "def get_data_params(load_dir=\"data/eval/sim/singleplanet\"):\n",
    "    meta = {}\n",
    "    fnames = [fnm for fnm in os.listdir(load_dir) if not fnm.startswith(\".\")]\n",
    "    for fname in fnames:\n",
    "        batch = dl.load_data(load_dir + \"/\"+fname)\n",
    "        if batch is None:\n",
    "            continue\n",
    "        meta = {**meta, **batch[\"meta\"]}\n",
    "    return meta\n",
    "\n",
    "def get_results(load_pkl, best_only=False):\n",
    "    with open(load_pkl, \"rb\") as f:\n",
    "        detections = pickle.load(f)\n",
    "    if best_only:\n",
    "        for i in detections:\n",
    "            for mname in detections[i]:\n",
    "                if len(list(detections[i][mname].keys())):\n",
    "                    mx = np.max(list(detections[i][mname].keys()))\n",
    "                    detections[i][mname] = {mx:detections[i][mname][mx]}\n",
    "    return detections\n",
    "\n",
    "\n",
    "def evaluate_thresholds(detections, thresholds):\n",
    "    snames = [\"tp\", \"fp\", \"fn\", \"tn\"]\n",
    "    results = {mname:{sname:[] for sname in snames} for mname in detections[0]}\n",
    "    pbar = tqdm(thresholds)\n",
    "    for thr in pbar:  \n",
    "        try:\n",
    "            for mname in detections[0]:\n",
    "                dic = results[mname]\n",
    "                tp = fp = tn = fn = 0\n",
    "                for i in meta:\n",
    "                    contains_planet = len(meta[i][\"planets\"]) > 0\n",
    "                    found_planet = False\n",
    "                    for score, det in detections[i][mname].items():\n",
    "                        if score >= thr:\n",
    "                            if contains_planet and correct_detection(meta[i], det):\n",
    "                                tp += 1\n",
    "                                found_planet = True \n",
    "                            else:  # no planets in lc or false detection\n",
    "                                fp += 1\n",
    "                    if contains_planet and not found_planet:\n",
    "                        fn += 1\n",
    "                    # true negative is always inf\n",
    "                results[mname][\"tp\"].append(tp), results[mname][\"fp\"].append(fp) \n",
    "                results[mname][\"tn\"].append(tn), results[mname][\"fn\"].append(fn) \n",
    "        except:\n",
    "            pbar.close()\n",
    "            raise\n",
    "    for mname in detections[0]:\n",
    "        for sname in snames:\n",
    "            results[mname][sname] = np.array(results[mname][sname])\n",
    "    return results\n",
    "\n",
    "def get_fpr(dic):\n",
    "    return dic[\"fp\"] / (dic[\"fp\"] + dic[\"tn\"]) \n",
    "    \n",
    "def get_tpr(dic):\n",
    "    # recall\n",
    "    return dic[\"tp\"] / (dic[\"tp\"] + dic[\"fn\"])\n",
    "\n",
    "def get_recall(dic):\n",
    "    return get_tpr(dic)\n",
    "\n",
    "def get_precision(dic):\n",
    "    with warnings.catch_warnings():\n",
    "        warnings.simplefilter(\"ignore\")\n",
    "        prec = dic[\"tp\"] / (dic[\"tp\"] + dic[\"fp\"])\n",
    "    prec[np.isnan(prec)] = 1\n",
    "    return prec\n",
    "\n",
    "def get_threshold(threshold_results, thresholds, precision_lvl=0.9):\n",
    "    precision = get_precision(threshold_results)\n",
    "    argmin = np.argmin(np.abs(precision-precision_lvl))\n",
    "    thr = thresholds[argmin]\n",
    "    return thr, precision[argmin]"
   ]
  },
  {
   "cell_type": "code",
   "execution_count": 19,
   "metadata": {},
   "outputs": [],
   "source": [
    "meta = get_data_params()\n",
    "bls_detections = get_results(\"results/bls_single_detections.pkl\")\n",
    "rnn_detections = get_results(\"results/rnn_single_detections.pkl\")\n",
    "rnn_sde_detections = get_results(\"results/rnn_sde_single_detections.pkl\")"
   ]
  },
  {
   "cell_type": "code",
   "execution_count": 64,
   "metadata": {},
   "outputs": [
    {
     "name": "stdout",
     "output_type": "stream",
     "text": [
      "bls_6h:  min = 2.93 | max = 17.76 | avg = 5.54\n",
      "bls_12h:  min = 2.3 | max = 17.28 | avg = 5.17\n",
      "bls_24h:  min = 0.89 | max = 38.66 | avg = 4.58\n",
      "rnn_alg1:  min = 0.23 | max = 3.74 | avg = 0.86\n",
      "rnn_alg2:  min = 0.2 | max = 3.74 | avg = 0.9\n",
      "rnnc_alg1:  min = 0.16 | max = 3.74 | avg = 0.71\n",
      "rnnc_alg2:  min = 0.19 | max = 3.74 | avg = 0.81\n",
      "rnnc_conf_alg1:  min = 0.15 | max = 3.73 | avg = 0.6\n",
      "rnnc_conf_alg2:  min = 0.18 | max = 3.73 | avg = 0.75\n",
      "rnn_sde_alg1:  min = 1.47 | max = 12.49 | avg = 3.2\n"
     ]
    }
   ],
   "source": [
    "scores = {mname:[] for mname in [*bls_detections[0], *rnn_detections[0], *rnn_sde_detections[0]]}\n",
    "for i in meta:\n",
    "    for mname, dic in {**bls_detections[i], **rnn_detections[i], **rnn_sde_detections[i]}.items():\n",
    "        for score in dic:\n",
    "            scores[mname].append(score)\n",
    "for mname in scores:\n",
    "    print(f\"{mname}:  min = {round(min(scores[mname]),2)} | max = {round(max(scores[mname]),2)} | \" +\n",
    "          f\"avg = {round(np.mean(scores[mname]),2)}\")"
   ]
  },
  {
   "cell_type": "code",
   "execution_count": 65,
   "metadata": {},
   "outputs": [
    {
     "name": "stderr",
     "output_type": "stream",
     "text": [
      "100%|██████████| 100/100 [00:03<00:00, 28.51it/s]\n"
     ]
    }
   ],
   "source": [
    "bls_thresholds =  np.linspace(0,30,100)\n",
    "bls_results = evaluate_thresholds(bls_detections, bls_thresholds)"
   ]
  },
  {
   "cell_type": "code",
   "execution_count": 66,
   "metadata": {},
   "outputs": [
    {
     "name": "stderr",
     "output_type": "stream",
     "text": [
      "100%|██████████| 100/100 [00:07<00:00, 13.37it/s]\n"
     ]
    }
   ],
   "source": [
    "rnn_thresholds = np.linspace(0,4,100)\n",
    "rnn_results = evaluate_thresholds(rnn_detections, rnn_thresholds)"
   ]
  },
  {
   "cell_type": "code",
   "execution_count": 67,
   "metadata": {},
   "outputs": [
    {
     "name": "stderr",
     "output_type": "stream",
     "text": [
      "100%|██████████| 100/100 [00:01<00:00, 93.71it/s]\n"
     ]
    }
   ],
   "source": [
    "rnn_sde_thresholds = np.linspace(0,15,100)\n",
    "rnn_sde_results = evaluate_thresholds(rnn_sde_detections, rnn_sde_thresholds)"
   ]
  },
  {
   "cell_type": "code",
   "execution_count": 79,
   "metadata": {},
   "outputs": [
    {
     "data": {
      "image/png": "[encoded data removed]",
      "text/plain": [
       "<Figure size 432x288 with 1 Axes>"
      ]
     },
     "metadata": {
      "needs_background": "light"
     },
     "output_type": "display_data"
    }
   ],
   "source": [
    "dontshow=[]\n",
    "onlyshow=[\"rnnc_conf_alg1\", \"rnn_alg1\", \"rnnc_conf_alg2\", \"rnn_alg2\", \"bls_12h\", \"rnn_sde_alg1\"]\n",
    "# onlyshow=[\"rnn_sde_alg1\"]\n",
    "combined_results = {**bls_results, **rnn_results, **rnn_sde_results}\n",
    "for mname, dic in combined_results.items():\n",
    "    if len(onlyshow)>0:\n",
    "        if mname in onlyshow:\n",
    "#             plt.plot(dic[\"fp\"], dic[\"tp\"], label=mname)\n",
    "            plt.plot(get_recall(dic), get_precision(dic), label=mname)\n",
    "    elif mname not in dontshow:\n",
    "#         plt.plot(dic[\"fp\"], dic[\"tp\"], label=mname)\n",
    "        plt.plot(get_recall(dic), get_precision(dic), label=mname)\n",
    "plt.legend(), plt.xlim(0.05,1.05), plt.ylim(-0.05,1.05)\n",
    "plt.xlabel(\"Recall\", fontsize=14)\n",
    "plt.ylabel(\"Precision\", fontsize=14)\n",
    "plt.show()"
   ]
  },
  {
   "cell_type": "code",
   "execution_count": 49,
   "metadata": {},
   "outputs": [],
   "source": [
    "def wilson(bool_array, conf=0.95):\n",
    "    # https://en.wikipedia.org/wiki/Binomial_proportion_confidence_interval\n",
    "    n = bool_array.size\n",
    "    z = 1.96 \n",
    "    if conf != 0.95:\n",
    "        print(\"WARNING: using conf=0.95\")  \n",
    "    phat = bool_array.mean()\n",
    "    mean = 1/(1+z**2/n) * (phat + z**2/(2*n))\n",
    "    unc = z/(1+z**2/n) * np.sqrt(phat*(1-phat)/n + z**2/(4*n**2))\n",
    "    return mean, unc\n",
    "\n",
    "def get_bin_indc(array, n_bins=10):\n",
    "    stepsize = (array.max()-array.min()+1e-9)/n_bins\n",
    "    bin_indc = []\n",
    "    minimum = array.min()\n",
    "    steps = [minimum+stepsize/2+i*stepsize for i in range(n_bins)]\n",
    "    for bi in range(n_bins):\n",
    "        low = minimum + bi*stepsize\n",
    "        high = minimum + (bi+1)*stepsize\n",
    "        bin_indc.append( np.where((array>=low)*(array<high))[0] )\n",
    "    return bin_indc, np.array(steps)\n",
    "\n",
    "def vs_plot(steps, stats, n_samples, xlbl=\"\", legend=False, labels=None, offset=0.1, fill=True, rot=0, min_acc=0.5):\n",
    "    plt.figure(figsize=(5,3),facecolor=\"w\")\n",
    "    offs = 0\n",
    "    for i,stat in enumerate(stats):\n",
    "        if fill:\n",
    "            p = plt.plot(steps, stat[\"mean\"], label=labels[i])\n",
    "            plt.fill_between(steps, np.array(stat[\"mean\"])-np.array(stat[\"unc\"]), \n",
    "                             np.array(stat[\"mean\"])+np.array(stat[\"unc\"]), alpha=.3, color=p[0].get_color())\n",
    "        else:\n",
    "            plt.errorbar(steps+offs, stat[\"mean\"], yerr=stat[\"unc\"], capsize=2, label=labels[i])\n",
    "        if offset:\n",
    "            offs += offset*(steps[1]-steps[0])\n",
    "    if rot:\n",
    "        plt.xticks(fontsize=13, rotation=rot, ha='right')\n",
    "    else:\n",
    "        plt.xticks(fontsize=13)\n",
    "    plt.yticks(fontsize=13)\n",
    "    plt.ylabel(\"Fraction correct\", fontsize=14)\n",
    "    plt.xlabel(xlbl, fontsize=14)\n",
    "    plt.xlim(steps[0]-0.5*(steps[1]-steps[0]),steps[-1]+0.5*(steps[1]-steps[0]))\n",
    "    plt.ylim(min_acc,1.02)\n",
    "    if legend:\n",
    "        plt.legend(loc=\"center right\", framealpha=1, fontsize=12, facecolor=\"w\", ncol=1)\n",
    "    ax = plt.twinx()\n",
    "    plt.bar(steps, n_samples, alpha=0.2, color=\"gray\", width=(steps[1]-steps[0]), label=\"Samples\", zorder=0)\n",
    "    plt.ylabel(\"#samples\", fontsize=14)\n",
    "    plt.yticks(fontsize=13)\n",
    "    if legend:\n",
    "        plt.legend(loc=\"lower left\", framealpha=1, fontsize=12)\n",
    "    \n",
    "def plot_1d(model_correct, array, labels, n_bins=10, xlbl=\"\", legend=True, offset=0.01, fill=True, show=True, rot=0, min_acc=0.5):\n",
    "    bin_indc, steps = get_bin_indc(array, n_bins=n_bins)\n",
    "    n_samples = np.array([len(indc) for indc in bin_indc])\n",
    "    \n",
    "    model_confs = {model:{\"mean\":[],\"unc\":[]} for model in labels}\n",
    "    for indc in bin_indc:\n",
    "        if len(indc)==0:\n",
    "            for model in model_confs:\n",
    "                model_confs[model][\"mean\"].append(np.nan)\n",
    "                model_confs[model][\"unc\"].append(np.nan)\n",
    "        else:\n",
    "            for i, model in enumerate(model_confs):\n",
    "                mean, unc = wilson(model_correct[i][indc])\n",
    "                model_confs[model][\"mean\"].append(mean)\n",
    "                model_confs[model][\"unc\"].append(unc)\n",
    "    vs_plot(steps, list(model_confs.values()), n_samples, xlbl, legend, labels, offset=offset, \n",
    "            fill=fill, rot=rot, min_acc=min_acc)\n",
    "    if show:\n",
    "        plt.show()"
   ]
  },
  {
   "cell_type": "code",
   "execution_count": 126,
   "metadata": {},
   "outputs": [],
   "source": [
    "def get_scores(mname, detect_dic, results_dic, thresholds, precision_lvl=0.9):\n",
    "    thresh = get_threshold(results_dic[mname], thresholds, precision_lvl=0.9)[0]\n",
    "    correct_detections = [] \n",
    "    for i in meta:\n",
    "        if len(meta[i][\"planets\"]) > 0:\n",
    "            correct = False\n",
    "            for score, det in detect_dic[i][mname].items():\n",
    "                if score > thresh and correct_detection(meta[i], det):\n",
    "                    correct = True\n",
    "                    break\n",
    "            correct_detections.append(correct)\n",
    "    return np.array(correct_detections)\n",
    "\n",
    "def get_data_params(meta, pname, fn=lambda a:a, pl_param=True):\n",
    "    if pl_param:\n",
    "        lst = [fn(meta[i][\"planets\"][0][pname]) for i in meta if len(meta[i][\"planets\"])]\n",
    "    else:\n",
    "        lst = [fn(meta[i][pname]) for i in meta if len(meta[i][\"planets\"])]\n",
    "    return np.array(lst)"
   ]
  },
  {
   "cell_type": "code",
   "execution_count": 100,
   "metadata": {},
   "outputs": [],
   "source": [
    "rnn_scores = get_scores(\"rnn_alg1\", rnn_detections, rnn_results, rnn_thresholds)\n",
    "bls_scores = get_scores(\"bls_12h\", bls_detections, bls_results, bls_thresholds)"
   ]
  },
  {
   "cell_type": "code",
   "execution_count": 141,
   "metadata": {},
   "outputs": [],
   "source": [
    "depth = get_data_params(meta, \"pl_ror\", lambda a:a**2) \n",
    "duration = get_data_params(meta, \"pl_duration\", lambda a:a*24)\n",
    "n_transits = get_data_params(meta, \"pl_transits\")\n",
    "rot_period = get_data_params(meta, \"rot_period\", pl_param=0)\n",
    "gran_period = get_data_params(meta, \"gran_period\", pl_param=0)"
   ]
  },
  {
   "cell_type": "code",
   "execution_count": 144,
   "metadata": {},
   "outputs": [
    {
     "data": {
      "image/png": "[encoded data removed]",
      "text/plain": [
       "<Figure size 360x216 with 2 Axes>"
      ]
     },
     "metadata": {},
     "output_type": "display_data"
    },
    {
     "data": {
      "image/png": "[encoded data removed]",
      "text/plain": [
       "<Figure size 360x216 with 2 Axes>"
      ]
     },
     "metadata": {},
     "output_type": "display_data"
    }
   ],
   "source": [
    "plot_1d([bls_scores, rnn_scores],\n",
    "         n_transits, labels=[\"BLS-12h\",\"RNN\"], xlbl=\"X label\", \n",
    "         legend=False, n_bins=8, offset=0.1, fill=True, min_acc=0)\n",
    "\n",
    "plot_1d([bls_scores, rnn_scores],\n",
    "         rot_period, labels=[\"BLS-12h\",\"RNN\"], xlbl=\"X label\", \n",
    "         legend=False, n_bins=8, offset=0.1, fill=True, min_acc=0, show=False)\n",
    "# plt.xlim(0,1.5)\n",
    "plt.show()"
   ]
  },
  {
   "cell_type": "code",
   "execution_count": 129,
   "metadata": {},
   "outputs": [
    {
     "data": {
      "text/plain": [
       "{'rot_sigma': 0.0008605034792033113,\n",
       " 'rot_period': 3.776239763906159,\n",
       " 'rot_Q0': 1.8923214757416496,\n",
       " 'rot_dQ': 1.747318949636638,\n",
       " 'rot_f': 0.737265320016441,\n",
       " 'gran_period': 0.04680582202115557,\n",
       " 'gran_sigma': 0.0003025500924364046,\n",
       " 'sigma': 0.001164768601612067,\n",
       " 'planets': {}}"
      ]
     },
     "execution_count": 129,
     "metadata": {},
     "output_type": "execute_result"
    }
   ],
   "source": []
  },
  {
   "cell_type": "code",
   "execution_count": null,
   "metadata": {},
   "outputs": [],
   "source": []
  }
 ],
 "metadata": {
  "kernelspec": {
   "display_name": "venv",
   "language": "python",
   "name": "venv"
  },
  "language_info": {
   "codemirror_mode": {
    "name": "ipython",
    "version": 3
   },
   "file_extension": ".py",
   "mimetype": "text/x-python",
   "name": "python",
   "nbconvert_exporter": "python",
   "pygments_lexer": "ipython3",
   "version": "3.6.10"
  }
 },
 "nbformat": 4,
 "nbformat_minor": 4
}
