{
 "cells": [
  {
   "cell_type": "code",
   "execution_count": 1,
   "metadata": {},
   "outputs": [
    {
     "name": "stdout",
     "output_type": "stream",
     "text": [
      "/Users/Yke/Desktop/AI/Thesis/ESA/transit-detection-rnn\n"
     ]
    }
   ],
   "source": [
    "if \"descended\" not in locals():\n",
    "    descended = 1\n",
    "    %cd \"..\"\n",
    "    \n",
    "import utils\n",
    " \n",
    "import os\n",
    "import numpy as np\n",
    "import matplotlib.pyplot as plt\n",
    "import pickle\n",
    "import torch\n",
    "from dataloading import loading as dl\n",
    "from training.nn_models import MLPmodel, CNNmodel, NaiveRNNmodel, RNNmodel, num_params\n",
    "from  training.nn_models import GenerativeRNNmodel, ConfidenceRNNmodel, RepresentationRNNmodel\n",
    "from training.trainer_class import Trainer\n",
    "from training.contrast_trainer import ContrastTrainer"
   ]
  },
  {
   "cell_type": "code",
   "execution_count": 2,
   "metadata": {},
   "outputs": [],
   "source": [
    "def plot_stats(dic, keys, lbls=None, lbl_prepend=\"\", valid_only=False, train_only=False, snr_range=None, \n",
    "               lstyle=\"-\", return_c=False):\n",
    "    # for plotting training statistics\n",
    "    keys = keys if isinstance(keys, list) else [keys]\n",
    "    labels = keys if lbls is None else lbls\n",
    "    for key, lbl in zip(keys, labels):\n",
    "        train = dic[\"train\"][key] if snr_range is None else dic[\"train\"][snr_range][key]\n",
    "        valid = dic[\"valid\"][key] if snr_range is None else dic[\"valid\"][snr_range][key]\n",
    "        p = plt.plot(train, label=lbl_prepend+lbl, linestyle=lstyle) if not valid_only else plt.plot([], label=lbl_prepend+lbl)\n",
    "        plt.plot(valid, color=p[0].get_color(), linestyle=\"--\" if not valid_only else lstyle) if not train_only else 0\n",
    "    plt.xticks(fontsize=14), plt.yticks(fontsize=14)\n",
    "    return p[0].get_color() if return_c else None\n",
    "\n",
    "def save_trainer_stats(trainer):\n",
    "    # copies trainer tracked values (loss, accuracies, etc.)\n",
    "    stats = {s:{\"train\":{}, \"valid\":{}} for s in [\"losses\", \"metrics\"]}\n",
    "    splitnames = [\"train\", \"valid\"]\n",
    "    for s in splitnames:\n",
    "        stats[\"metrics\"][s] = {rng:{} for rng in trainer.snr_ranges}\n",
    "        for l in trainer.losses[s]:\n",
    "            stats[\"losses\"][s][l] = [i for i in trainer.losses[s][l]]\n",
    "        for rng in stats[\"metrics\"][s]:\n",
    "            for m in trainer.metrics[s][rng]:\n",
    "                stats[\"metrics\"][s][rng][m] = [i for i in trainer.metrics[s][rng][m]]\n",
    "    if trainer.lambdas is not None:\n",
    "        stats[\"lambdas\"] = [i for i in trainer.lambdas]\n",
    "    stats[\"grad_norms\"] = [i for i in trainer.grad_norms]\n",
    "    return stats\n",
    "\n",
    "def save_results(trainer, fname):\n",
    "    utils.make_dir(\"results\")\n",
    "    with open(\"results/\"+fname, \"wb\") as f:\n",
    "        pickle.dump(save_trainer_stats(trainer), f)\n",
    "        \n",
    "def average_stats(stats):\n",
    "    # in the case for multiple runs\n",
    "    runs = len(stats)\n",
    "    stats_mean, stats_std = {}, {}\n",
    "\n",
    "    grad_norms = [stats[i][\"grad_norms\"] for i in range(runs)]\n",
    "    stats_mean[\"grad_norms\"] = np.mean(grad_norms, 0)\n",
    "    stats_std[\"grad_norms\"] = np.std(grad_norms, 0)\n",
    "\n",
    "    #metrics\n",
    "    stats_mean[\"metrics\"], stats_std[\"metrics\"] = {}, {}\n",
    "    for split in [\"train\", \"valid\"]:\n",
    "        stats_mean[\"metrics\"][split], stats_std[\"metrics\"][split] = {}, {}\n",
    "        for rng in stats[0][\"metrics\"][\"train\"].keys():\n",
    "            stats_mean[\"metrics\"][split][rng], stats_std[\"metrics\"][split][rng] = {}, {}\n",
    "            for m in stats[0][\"metrics\"][\"train\"][rng].keys():\n",
    "                mvals = [stats[i][\"metrics\"][split][rng][m] for i in range(runs)]\n",
    "                stats_mean[\"metrics\"][split][rng][m] = np.mean(mvals, 0)\n",
    "                stats_std[\"metrics\"][split][rng][m] = np.std(mvals, 0)\n",
    "    #losses\n",
    "    stats_mean[\"losses\"], stats_std[\"losses\"] = {}, {}\n",
    "    for split in [\"train\", \"valid\"]:\n",
    "        stats_mean[\"losses\"][split], stats_std[\"losses\"][split] = {}, {}\n",
    "        for l in stats[0][\"losses\"][\"train\"].keys():\n",
    "            lvals = [stats[i][\"losses\"][split][l] for i in range(runs)]\n",
    "            stats_mean[\"losses\"][split][l] = np.mean(lvals, 0)\n",
    "            stats_std[\"losses\"][split][l] = np.std(lvals, 0)\n",
    "    return stats_mean, stats_std"
   ]
  },
  {
   "cell_type": "code",
   "execution_count": null,
   "metadata": {},
   "outputs": [],
   "source": []
  },
  {
   "cell_type": "code",
   "execution_count": null,
   "metadata": {},
   "outputs": [],
   "source": []
  }
 ],
 "metadata": {
  "kernelspec": {
   "display_name": "venv",
   "language": "python",
   "name": "venv"
  },
  "language_info": {
   "codemirror_mode": {
    "name": "ipython",
    "version": 3
   },
   "file_extension": ".py",
   "mimetype": "text/x-python",
   "name": "python",
   "nbconvert_exporter": "python",
   "pygments_lexer": "ipython3",
   "version": "3.6.10"
  }
 },
 "nbformat": 4,
 "nbformat_minor": 4
}
