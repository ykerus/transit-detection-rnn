{
 "cells": [
  {
   "cell_type": "code",
   "execution_count": 23,
   "metadata": {},
   "outputs": [],
   "source": [
    "if \"descended\" not in locals():\n",
    "    descended = 1\n",
    "    %cd \"..\"\n",
    "    \n",
    "import os\n",
    "# import sys\n",
    "import pickle\n",
    "import numpy as np\n",
    "import matplotlib.pyplot as plt\n",
    "\n",
    "# import warnings\n",
    "from tqdm import tqdm\n",
    "# from time import time as clock\n",
    "\n",
    "# from astropy.io import fits\n",
    "from wotan import flatten\n",
    "import warnings\n",
    "from astropy.stats import sigma_clip\n",
    "\n",
    "# import utils\n",
    "\n",
    "# import data_processing as dp\n",
    "# from visualize import plot\n",
    "# import lilith_utils\n",
    "# from data.lilith.lilith_utils import *"
   ]
  },
  {
   "cell_type": "code",
   "execution_count": 2,
   "metadata": {},
   "outputs": [],
   "source": [
    "from dataloading import loading as dl\n",
    "from dataloading import data_processing as dp\n",
    "from lilith.lilith_utils import *"
   ]
  },
  {
   "cell_type": "code",
   "execution_count": 3,
   "metadata": {},
   "outputs": [],
   "source": [
    "# download curl files and ground truth\n",
    "# https://archive.stsci.edu/missions-and-data/tess/data-products/lilith-4"
   ]
  },
  {
   "cell_type": "code",
   "execution_count": 4,
   "metadata": {
    "scrolled": true
   },
   "outputs": [
    {
     "data": {
      "text/plain": [
       "['data/lilith/sector1',\n",
       " 'data/lilith/sector2',\n",
       " 'data/lilith/sector3',\n",
       " 'data/lilith/sector4',\n",
       " 'data/lilith/test']"
      ]
     },
     "execution_count": 4,
     "metadata": {},
     "output_type": "execute_result"
    }
   ],
   "source": [
    "BASE_PATH = \"data/lilith\"\n",
    "SECTOR = {i:f\"/sector{i}\" for i in [1,2,3,4]}  # use as: path = BASE_PATH + SECTOR[i]\n",
    "[BASE_PATH + \"/\" + dirname for dirname in os.listdir(BASE_PATH) if os.path.isdir(BASE_PATH + \"/\" + dirname)]"
   ]
  },
  {
   "cell_type": "code",
   "execution_count": 5,
   "metadata": {},
   "outputs": [],
   "source": [
    "def get_data(load_path):\n",
    "    # from fits file\n",
    "    try:\n",
    "        hdu = fits.open(load_path)\n",
    "        time = hdu[1].data.TIME\n",
    "        flux = hdu[1].data.PDCSAP_FLUX\n",
    "        flux_err = hdu[1].data.PDCSAP_FLUX_ERR\n",
    "        \n",
    "        quality = hdu[1].data.QUALITY\n",
    "\n",
    "        mom_col_centr = hdu[1].data.MOM_CENTR1\n",
    "        mom_row_centr = hdu[1].data.MOM_CENTR2\n",
    "    except:\n",
    "        print(f\"WARNING: no data found for {load_path.split('/')[-1]}\")\n",
    "        n = get_seq_length('/'.join(load_path.split('/')[:-1]))\n",
    "        time = flux = flux_err = mom_col_centr = mom_row_centr = quality = np.zeros(n)*np.nan\n",
    "    \n",
    "    return time, flux, flux_err, mom_col_centr, mom_row_centr, quality\n",
    "\n",
    "def get_seq_length(path_to_fits):\n",
    "    # assuming same seq length for each lc in a sector\n",
    "    for fname in os.listdir(path_to_fits):\n",
    "        sampleid = sampleid_from_fname(fname)\n",
    "        if sampleid is not None:\n",
    "            seq_length = len(get_data(path_to_fits+\"/\"+fname)[0])\n",
    "            break\n",
    "    return seq_length\n",
    "    \n",
    "def save_efficient(path_to_fits, save_path, bsize=250):\n",
    "    # load fits and save in pickled batches\n",
    "    # make sure num fits % b(atch)size == 0\n",
    "    to_save = len(sampleids_from_fits(path_to_fits))\n",
    "    utils.make_dir(save_path)\n",
    "    n = get_seq_length(path_to_fits)\n",
    "    def _empty_arrays():\n",
    "        arrays = (-np.ones((bsize,n)), -np.ones((bsize,n)), -np.ones((bsize,n)))\n",
    "        arrays += (-np.ones((bsize,n)), -np.ones((bsize,n)), -np.ones((bsize,n)).astype(int))\n",
    "        arrays += (-np.ones(bsize).astype(int),)\n",
    "        return arrays\n",
    "    def _get_batch_fname():\n",
    "        return str(batches_done*bsize).zfill(5)+\"-\"+str(min(to_save-1,(batches_done+1)*bsize-1)).zfill(5)\n",
    "    # arrays to save as b(atch)\n",
    "    time, flux, flux_err, mom_col, mom_row, quality, sampleids = _empty_arrays()\n",
    "\n",
    "    pbar = tqdm(os.listdir(path_to_fits))\n",
    "    i, batches_done = 0, 0\n",
    "    save_fname = _get_batch_fname()\n",
    "    for fname in pbar:\n",
    "        try: \n",
    "            sampleid = sampleid_from_fname(fname)\n",
    "            if sampleid is not None:\n",
    "                sampleids[i] = sampleid\n",
    "                data = get_data(path_to_fits+\"/\"+fname)\n",
    "                time[i], flux[i], flux_err[i], mom_col[i], mom_row[i], quality[i] = data\n",
    "                i += 1\n",
    "                if i == bsize or batches_done*bsize+i == to_save:\n",
    "                    batches_done += 1\n",
    "                    batch_data = {\"time\":time,\"flux\":flux,\"flux_err\":flux_err,\n",
    "                                  \"mom_col\":mom_col,\"mom_row\":mom_row,\"quality\":quality,\n",
    "                                  \"sampleids\":sampleids}\n",
    "                    with open(save_path + \"/\" + save_fname, \"wb\") as f:\n",
    "                        pickle.dump(batch_data, f)\n",
    "                    save_fname = _get_batch_fname()\n",
    "                    time, flux, flux_err, mom_col, mom_row, quality, sampleids = _empty_arrays()\n",
    "                    i = 0\n",
    "        except: \n",
    "            pbar.close()\n",
    "            raise\n",
    "\n",
    "\n",
    "def get_missing_curls(path_to_fits):\n",
    "    # curl lines that did not get processed correctly during download\n",
    "    # assuming bash (.sh) file is located in same dir as fits\n",
    "    bash_file = get_bash_file(path_to_fits)\n",
    "    fits_sampleids = sampleids_from_fits(path_to_fits)\n",
    "    curl_sampleids = sampleids_from_curl(path_to_fits)\n",
    "    missing_sampleids = np.setxor1d(fits_sampleids, curl_sampleids)\n",
    "    missing_curls = []\n",
    "    with open(path_to_fits+\"/\"+bash_file, \"r\") as f:\n",
    "        lines = f.read().splitlines()\n",
    "    for line in lines:\n",
    "        if line.endswith(\".fits.gz\"):\n",
    "            sampleid = sampleid_from_fname(line.split(\"/\")[-1])\n",
    "            if sampleid in missing_sampleids:\n",
    "                missing_curls.append(line)\n",
    "    return missing_curls"
   ]
  },
  {
   "cell_type": "code",
   "execution_count": 6,
   "metadata": {},
   "outputs": [],
   "source": [
    "# sector = 1  # for all sectors, save efficient, then remove raw files\n",
    "# sector_path = BASE_PATH + SECTOR[sector]\n",
    "# save_efficient(sector_path+'/fits', sector_path+\"/raw_batches\", bsize=250)\n",
    "# get_missing_curls(sector_path + \"/fits\")"
   ]
  },
  {
   "cell_type": "code",
   "execution_count": 7,
   "metadata": {
    "scrolled": true
   },
   "outputs": [
    {
     "name": "stdout",
     "output_type": "stream",
     "text": [
      "WARNING: sampleid 44577667 in (B)EB data not found in sampleids\n",
      "WARNING: sampleid 238196512 in (B)EB data not found in sampleids\n",
      "WARNING: sampleid 238196512 in (B)EB data not found in sampleids\n"
     ]
    }
   ],
   "source": [
    "# load ground-truth and sector sampleids\n",
    "sampleids_sector = {i:sampleids_from_curl(BASE_PATH+SECTOR[i]+'/fits') for i in SECTOR}\n",
    "sampleids = set()\n",
    "for i in SECTOR:\n",
    "    sampleids.update(sampleids_sector[i])\n",
    "sampleids = np.array(list(sampleids))\n",
    "\n",
    "gt_sector = {i:{obj:{} for obj in [\"pl\", \"eb\", \"beb\"]} for i in SECTOR}\n",
    "gt = {obj:{\"params\":{}, \"sampleids\":[]} for obj in [\"pl\", \"eb\", \"beb\"]}\n",
    "for i in SECTOR:\n",
    "    gt_path = BASE_PATH+SECTOR[i]+'/ground_truth'\n",
    "    gt_sector[i][\"pl\"][\"params\"], gt_sector[i][\"pl\"][\"sampleids\"] = get_pl_data(gt_path, sampleids_sector[i])\n",
    "    gt_sector[i][\"eb\"][\"params\"], gt_sector[i][\"eb\"][\"sampleids\"] = get_eb_data(gt_path, sampleids_sector[i], backeb=0)\n",
    "    gt_sector[i][\"beb\"][\"params\"], gt_sector[i][\"beb\"][\"sampleids\"] = get_eb_data(gt_path, sampleids_sector[i], backeb=1)\n",
    "    for obj in [\"pl\", \"eb\", \"beb\"]:\n",
    "        for sampleid, obj_data in gt_sector[i][obj][\"params\"].items():  \n",
    "            if sampleid in gt[obj][\"sampleids\"]:\n",
    "                # ground truth already saved from prev sector\n",
    "                if obj_data != gt[obj][\"params\"][sampleid]:\n",
    "                    print(\"WARNING: inconsistent ground-truth data\")\n",
    "            elif obj_data != {}:\n",
    "                gt[obj][\"params\"][sampleid] = obj_data\n",
    "                gt[obj][\"sampleids\"].append(sampleid)\n",
    "for obj in [\"pl\", \"eb\", \"beb\"]:\n",
    "    gt[obj][\"sampleids\"] = np.array(gt[obj][\"sampleids\"])\n",
    "    for sampleid in sampleids:\n",
    "        if sampleid not in gt[obj][\"sampleids\"]:\n",
    "            gt[obj][\"params\"][sampleid] = {}"
   ]
  },
  {
   "cell_type": "code",
   "execution_count": 8,
   "metadata": {},
   "outputs": [
    {
     "name": "stdout",
     "output_type": "stream",
     "text": [
      "SECTORS   INTERS  PL    EB   BEB  PL+EB  PL+BEB  PL+EB+BEB\n",
      "1         16000   3146  900  871  0      192     0\n",
      "  2       15998   3250  833  861  0      201     0\n",
      "    3     15996   3173  818  861  0      189     0\n",
      "      4   15997   3212  837  828  0      188     0\n",
      "\n",
      "1 2       7261    1425  403  387  0      90      0\n",
      "1   3     5500    1072  301  298  0      62      0\n",
      "1     4   5489    1076  283  311  0      63      0\n",
      "  2 3     7229    1430  377  381  0      92      0\n",
      "  2   4   5458    1085  290  296  0      72      0\n",
      "    3 4   7170    1411  373  399  0      94      0\n",
      "\n",
      "1 2 3     4937    959   273  260  0      54      0\n",
      "1 2   4   4633    908   249  254  0      53      0\n",
      "1   3 4   4659    922   248  254  0      56      0\n",
      "  2 3 4   4917    976   264  259  0      65      0\n",
      "\n",
      "1 2 3 4   4153    817   225  10   0      0       0\n",
      "\n",
      "TEST      12274   2420  634  678  0      0       0\n"
     ]
    }
   ],
   "source": [
    "# select test samples and display statistics\n",
    "test_sampleids = {obj:set() for obj in [\"all\", \"pl\", \"eb\", \"beb\"]}  # not to be used for training\n",
    "\n",
    "print(\"sectors   inters  pl    eb   beb  pl+eb  pl+beb  pl+eb+beb\".upper())\n",
    "def _print_line(i, s_ids, pl_ids, eb_ids, beb_ids, spc=[3,3,2,2,2,6,5]):\n",
    "    line = i+\" \"*spc[0] + str(len(s_ids)) +\" \"*spc[1]\n",
    "    line += str(len(pl_ids))+\" \"*spc[2]+str(len(eb_ids))+\" \"*spc[3]+str(len(beb_ids))+\" \"*spc[4]\n",
    "    line += str(len(np.intersect1d(pl_ids, eb_ids)))+\" \"*spc[5]\n",
    "    line += str(len(np.intersect1d(pl_ids, beb_ids)))+\" \"*spc[6]\n",
    "    line += str(len(np.intersect1d(np.intersect1d(pl_ids, eb_ids), beb_ids)))\n",
    "    print(line)\n",
    "    \n",
    "def inter(a, b):\n",
    "    return np.intersect1d(a, b)\n",
    "\n",
    "# single\n",
    "for i in SECTOR: \n",
    "    sec_str = \" \".join([str(i) if (i==j) else ' ' for j in SECTOR])\n",
    "    _print_line(sec_str, sampleids_sector[i], gt_sector[i][\"pl\"][\"sampleids\"], \n",
    "                gt_sector[i][\"eb\"][\"sampleids\"], gt_sector[i][\"beb\"][\"sampleids\"])\n",
    "print()\n",
    "# double\n",
    "for i1 in SECTOR:\n",
    "    for i2 in SECTOR:\n",
    "        if i2 > i1:\n",
    "            s_ids = inter(sampleids_sector[i1], sampleids_sector[i2])\n",
    "            pl_ids = inter(gt_sector[i1][\"pl\"][\"sampleids\"], gt_sector[i2][\"pl\"][\"sampleids\"])\n",
    "            eb_ids = inter(gt_sector[i1][\"eb\"][\"sampleids\"], gt_sector[i2][\"eb\"][\"sampleids\"])\n",
    "            beb_ids = inter(gt_sector[i1][\"beb\"][\"sampleids\"], gt_sector[i2][\"beb\"][\"sampleids\"])\n",
    "            \n",
    "            test_sampleids[\"all\"].update(s_ids), test_sampleids[\"pl\"].update(pl_ids)\n",
    "            test_sampleids[\"eb\"].update(eb_ids), test_sampleids[\"beb\"].update(beb_ids)\n",
    "            \n",
    "            sec_str = \" \".join([str(i) if (i1==i or i2==i) else ' ' for i in SECTOR])\n",
    "            _print_line(sec_str, s_ids, pl_ids, eb_ids, beb_ids, [3,4,2,2,2,6,6])\n",
    "print()\n",
    "# triple\n",
    "for i1 in SECTOR:\n",
    "    for i2 in SECTOR:\n",
    "        for i3 in SECTOR:\n",
    "            if i3 > i2 and i2 > i1:\n",
    "                s_ids = inter(inter(sampleids_sector[i1], sampleids_sector[i2]), sampleids_sector[i3])\n",
    "                pl_ids = inter(gt_sector[i1][\"pl\"][\"sampleids\"], gt_sector[i2][\"pl\"][\"sampleids\"])\n",
    "                pl_ids = inter(pl_ids, gt_sector[i3][\"pl\"][\"sampleids\"])\n",
    "                eb_ids = inter(gt_sector[i1][\"eb\"][\"sampleids\"], gt_sector[i2][\"eb\"][\"sampleids\"])\n",
    "                eb_ids = inter(eb_ids, gt_sector[i3][\"eb\"][\"sampleids\"])\n",
    "                beb_ids = inter(gt_sector[i1][\"beb\"][\"sampleids\"], gt_sector[i2][\"beb\"][\"sampleids\"])\n",
    "                beb_ids = inter(beb_ids, gt_sector[i3][\"beb\"][\"sampleids\"])\n",
    "                sec_str = \" \".join([str(i) if (i1==i or i2==i or i3==i) else ' ' for i in SECTOR])\n",
    "                if i1 == 1 and i2 == 2 and i3 == 3:\n",
    "                    s_all = inter(s_ids, sampleids_sector[4])\n",
    "                    pl_all = inter(pl_ids, gt_sector[4][\"pl\"][\"sampleids\"])\n",
    "                    eb_all = inter(eb_ids, gt_sector[4][\"eb\"][\"sampleids\"])\n",
    "                    beb_all = inter(eb_ids, gt_sector[4][\"beb\"][\"sampleids\"])\n",
    "                _print_line(sec_str, s_ids, pl_ids, eb_ids, beb_ids, [3,4,3,2,2,6,6])\n",
    "_print_line(\"\\n1 2 3 4\", s_all, pl_all, eb_all, beb_all, [3,4,3,2,3,6,7])\n",
    "_print_line(\"\\nTEST\", test_sampleids[\"all\"], test_sampleids[\"pl\"], \n",
    "            test_sampleids[\"eb\"], test_sampleids[\"beb\"], [6,3,2,2,2,6,7])"
   ]
  },
  {
   "cell_type": "code",
   "execution_count": 10,
   "metadata": {},
   "outputs": [],
   "source": [
    "# def get_lc(sampleid, sampleid2path=None):\n",
    "#     if sampleid2path is None:\n",
    "#         with open(BASE_PATH + \"/sampleid2path.pkl\", \"rb\") as f:\n",
    "#             sampleid2path = pickle.load(f)\n",
    "#     time, flux = [], []\n",
    "#     for sector in [1,2,3]:\n",
    "#         fname = sampleid2path[sampleid][sector-1]\n",
    "#         if fname is None:\n",
    "#             continue\n",
    "#         batch = load_data(BASE_PATH + f\"/sector{sector}/test_batches/\" + fname, unpack=False)\n",
    "#         indx = np.where(batch[\"sampleids\"]==sampleid)[0]\n",
    "#         if len(indx) > 1:\n",
    "#             print(\"WARNING: multiple cases of same sampleid\")\n",
    "#         indx = indx[0]\n",
    "#         time.append(batch[\"time\"])\n",
    "#         flux.append(batch[\"flux\"])\n",
    "#     return time, flux"
   ]
  },
  {
   "cell_type": "code",
   "execution_count": 11,
   "metadata": {},
   "outputs": [],
   "source": [
    "# with open(BASE_PATH + \"/sampleid2path.pkl\", \"rb\") as f:\n",
    "#     sampleid2path_ = pickle.load(f)\n",
    "# sampleid2path = {i:[j for j in sampleid2path_[i]] for i in sampleid2path_}\n",
    "# # keep only the test sampleids\n",
    "# for s_id in sampleid2path_:\n",
    "#     if s_id not in test_sampleids[\"all\"]:\n",
    "#         del sampleid2path[s_id]"
   ]
  },
  {
   "cell_type": "code",
   "execution_count": 12,
   "metadata": {},
   "outputs": [],
   "source": [
    "# def _list2name(lst):\n",
    "#     return \" \".join([\"-\" if d is None else d for d in lst])\n",
    "\n",
    "# def _name2list(name):\n",
    "#     return [None if d==\"-\" else d for d in name.split(\" \")]\n",
    "\n",
    "# fnames_all = {}\n",
    "# for s_id in sampleid2path:\n",
    "#     name = _list2name(sampleid2path[s_id])\n",
    "#     if name not in fnames_all:\n",
    "#         fnames_all[name] = [s_id]\n",
    "#     else:\n",
    "#         fnames_all[name].append(s_id)"
   ]
  },
  {
   "cell_type": "code",
   "execution_count": 14,
   "metadata": {},
   "outputs": [],
   "source": [
    "# bsize = 200\n",
    "# batch_dic = {}\n",
    "# success = 0\n",
    "# batch_i, batches_done = 0, 0\n",
    "# to_save = len(test_sampleids[\"all\"])\n",
    "# pbar = tqdm(fnames_all)\n",
    "# for fnames_name in pbar:\n",
    "#     fnames = _name2list(fnames_name)\n",
    "#     batches = []\n",
    "#     for i, fname in enumerate(fnames):\n",
    "#         if fname is not None:\n",
    "#             load_path = BASE_PATH+SECTOR[i+1]+\"/raw_batches/\"+fname\n",
    "#             batches.append(load_data(load_path, unpack=False))\n",
    "            \n",
    "#     for sampleid in fnames_all[fnames_name]:\n",
    "#         if sampleid in batch_dic:\n",
    "#             print(\"WARNING: sampleid added twice to batch_dic!\")\n",
    "#         indc = [np.where(batch[\"sampleids\"]==sampleid)[0][0] for batch in batches]\n",
    "#         batch_dic[sampleid] = {\"time\":[batch[\"time\"][indc[j]] for j,batch in enumerate(batches)],\n",
    "#                                \"flux\":[batch[\"flux\"][indc[j]] for j,batch in enumerate(batches)]}\n",
    "#         batch_i += 1\n",
    "#         if batch_i == bsize or batches_done*bsize+batch_i == to_save:\n",
    "#             fname = str(batches_done*bsize).zfill(5)+\"-\"+str(min(to_save-1,(batches_done+1)*bsize-1)).zfill(5)\n",
    "#             success += len(batch_dic)\n",
    "#             with open(BASE_PATH + \"/test/\" + fname, \"wb\") as f:\n",
    "#                 pickle.dump(batch_dic, f)\n",
    "#             batch_dic = {}\n",
    "#             batch_i = 0\n",
    "#             batches_done += 1"
   ]
  },
  {
   "cell_type": "code",
   "execution_count": 15,
   "metadata": {},
   "outputs": [],
   "source": [
    "# # save: test sampleid to fname in sector path\n",
    "# testid2path = {}\n",
    "# pbar = tqdm(os.listdir(BASE_PATH + \"/test/\"))\n",
    "# for fname in pbar:\n",
    "#     if fname.startswith(\".\"):\n",
    "#         continue\n",
    "#     batch = load_data(BASE_PATH + \"/test/\" + fname, unpack=False)\n",
    "#     for sampleid in batch:\n",
    "#         testid2path[sampleid] = fname\n",
    "# with open(BASE_PATH + \"/testid2path.pkl\", \"wb\") as f:\n",
    "#     pickle.dump(testid2path, f)"
   ]
  },
  {
   "cell_type": "code",
   "execution_count": 16,
   "metadata": {},
   "outputs": [],
   "source": [
    "# # save: sampleid to fname in sector path\n",
    "# sampleid2path = {i:[None,None,None] for i in np.union1d(np.union1d(sampleids[1], sampleids[2]), sampleids[3])}\n",
    "# for sector in [1,2,3]:\n",
    "#     sector_path = BASE_PATH + SECTOR[sector]\n",
    "#     pbar = tqdm(os.listdir(sector_path+'/raw_batches'))\n",
    "#     for fname in pbar:\n",
    "#         try:\n",
    "#             load_path = sector_path + '/raw_batches/' + fname\n",
    "#             batch = load_data(load_path, unpack=False)\n",
    "#             if batch is None:\n",
    "#                 continue\n",
    "#             for sampleid in batch[\"sampleids\"]:\n",
    "#                 sampleid2path[sampleid][sector-1] = fname  \n",
    "#         except:\n",
    "#             pbar.close()\n",
    "#             raise\n",
    "# with open(BASE_PATH + \"/sampleid2path.pkl\", \"wb\") as f:\n",
    "#     pickle.dump(sampleid2path, f)"
   ]
  },
  {
   "cell_type": "code",
   "execution_count": 13,
   "metadata": {},
   "outputs": [],
   "source": [
    "def split_lightcurve(time, data, size=1500, step=344, leftover=20, info=False):\n",
    "    # each time a window of \"size\" is stored and shifted by \"step\", such that less\n",
    "    # than \"leftover\" points are left unused\n",
    "    data = data if isinstance(data, list) else [data]\n",
    "    \n",
    "    options = np.arange(1,size+1)  # assuming step <= size\n",
    "    options = options[np.where((len(time)-size) % options <= leftover)[0]]\n",
    "    best_choice = options[np.abs(options-step).argmin()]\n",
    "    if step != best_choice:\n",
    "        print(f\"Choosing step = {best_choice} (instead of = {step})\") if info else 0\n",
    "        step = best_choice\n",
    "    \n",
    "    time_segments = np.array([time[i:i+size] for i in range(0,len(time),step) if i+size <= len(time)])\n",
    "    data_segments = []\n",
    "    for d in data:\n",
    "        data_segments.append(np.array([d[i:i+size] for i in range(0,len(time),step) if i+size <= len(time)]))\n",
    "    \n",
    "    if info:\n",
    "        not_used = np.sum(time>time[np.where(time == time_segments[-1][-1])[0]])\n",
    "        print(f\"{not_used} data points left unused\")\n",
    "    \n",
    "    return time_segments, data_segments\n",
    "\n",
    "\n",
    "def evaluate_segments(data_seg, depth_range=(0.25,10), snr_range=(3,1e9), duration_range=(0,utils.hour2day(14))):\n",
    "    # returns boolean array of rejections\n",
    "    n_range = [int(dur/utils.min2day(2)) for dur in duration_range]\n",
    "    \n",
    "    # unpack data\n",
    "    flux_seg, mask_seg, overlap_seg = data_seg[\"flux\"], data_seg[\"mask\"], data_seg[\"overlap\"]\n",
    "    depth_seg, n_seg = data_seg[\"rdepth\"], data_seg[\"tr_n\"]\n",
    "    \n",
    "    # first or last timestep nan - later added for NN training\n",
    "    edge_nan = np.isnan(flux_seg[:,0]) | np.isnan(flux_seg[:,-1])\n",
    "    \n",
    "    # general transit selection\n",
    "    transit = np.any(mask_seg, axis=1)\n",
    "    edge_transit = mask_seg[:,0] | mask_seg[:,-1]\n",
    "    overlap = np.any(overlap_seg, axis=1)  # dont allow transit overlap (could allow)\n",
    "    too_shallow = np.any((depth_seg > 0) & (depth_seg < depth_range[0]), axis=1)\n",
    "    too_deep = np.any(depth_seg > depth_range[1], axis=1)\n",
    "    too_short = np.any((n_seg > 0) & (n_seg < n_range[0]), axis=1)\n",
    "    too_long = np.any(n_seg > n_range[1], axis=1)\n",
    "\n",
    "    rejected = edge_nan | edge_transit | overlap | too_shallow | too_deep | too_short | too_long\n",
    "    \n",
    "    # specific transit selection\n",
    "    for i in range(len(flux_seg)):\n",
    "        if transit[i] and not rejected[i]:\n",
    "            flux_i, mask_i, depth_i, n_i = flux_seg[i], mask_seg[i], depth_seg[i], n_seg[i]\n",
    "            tr_indc = dp.separate_trues(mask_i)\n",
    "            for indc in tr_indc:\n",
    "                if len(np.unique(n_i[indc]))!=1 or len(np.unique(depth_i[indc]))!=1:\n",
    "                    # this happens if transits are touching, but not overlapping\n",
    "                    rejected[i] = True\n",
    "#                     print(\"WARNING: transit indices do not correspond to transit parameter segment!\")\n",
    "                    continue\n",
    "                n_true = n_i[indc][0]  # theoretical number of transit cadences\n",
    "                n_data = len(indc) - np.isnan(flux_i[indc]).sum()\n",
    "                # if transit is less than half visible or snr >/< threshold, reject\n",
    "                snr_eff = depth_i[indc][0] * np.sqrt(n_data)\n",
    "                if n_data < n_true/2. or snr_eff < snr_range[0] or snr_eff > snr_range[1]:\n",
    "                    rejected[i] = True\n",
    "    return rejected"
   ]
  },
  {
   "cell_type": "code",
   "execution_count": 14,
   "metadata": {},
   "outputs": [],
   "source": [
    "#TESS Science Data Products Description Document (EXP-TESS-ARC-ICD-0014)\n",
    "#https://archive.stsci.edu/missions/tess/doc/EXP-TESS-ARC-ICD-TM-0014.pdf\n",
    "# code from lightkurve.TessQualityFlags\n",
    "AttitudeTweak, SafeMode = 1, 2\n",
    "CoarsePoint, EarthPoint = 4, 8\n",
    "Argabrightening, Desat = 16, 32\n",
    "ApertureCosmic, ManualExclude = 64, 128 \n",
    "Discontinuity, ImpulsiveOutlier = 256, 512\n",
    "CollateralCosmic = 1024\n",
    "#: The first stray light flag is set manually by MIT based on visual inspection.\n",
    "#: The second stray light flag is set automatically by Ames/SPOC based on background level thresholds.\n",
    "Straylight, Straylight2 = 2048, 4096\n",
    "\n",
    "#: DEFAULT bitmask identifies all cadences which are definitely useless.\n",
    "DEFAULT_BITMASK = (AttitudeTweak | SafeMode | CoarsePoint | EarthPoint |\n",
    "                   Desat | ManualExclude)"
   ]
  },
  {
   "cell_type": "code",
   "execution_count": 15,
   "metadata": {},
   "outputs": [],
   "source": [
    "# # split up samples in training, testing and eb/beb data\n",
    "\n",
    "# np.random.seed(42)\n",
    "# for sector in [1,2,3,4]:\n",
    "#     sector_path = BASE_PATH + SECTOR[sector]\n",
    "\n",
    "#     raw_path = sector_path+'/raw_batches_'\n",
    "    \n",
    "#     train_path = sector_path+'/raw_batches/train'\n",
    "#     test_path = sector_path+'/raw_batches/test'\n",
    "#     reject_path = sector_path+'/raw_batches/rejected' # eg (b)eb\n",
    "    \n",
    "#     utils.make_dir(train_path), utils.make_dir(test_path), utils.make_dir(reject_path)\n",
    "    \n",
    "#     pbar = tqdm(os.listdir(raw_path))\n",
    "#     for fname in pbar:\n",
    "#         try:\n",
    "#             batch = dl.load_data(raw_path+\"/\"+fname, unpack=[\"time\",\"flux\", \"mom_col\",\n",
    "#                                                              \"mom_row\", \"quality\", \"sampleids\"])\n",
    "#             time_all, flux_all, mom_col_all, mom_row_all, q_all, batch_ids = batch\n",
    "#             if time_all is None:\n",
    "#                 continue\n",
    "\n",
    "#             # apply quality mask (remove flagged cadences)\n",
    "#             q_msk = (q_all & DEFAULT_BITMASK) > 0\n",
    "#             time_, flux_ = time_all.copy(), flux_all.copy() \n",
    "#             time_[q_msk], flux_[q_msk] = np.nan, np.nan\n",
    "\n",
    "#             # boolean array of samples with negative flux\n",
    "#             neg_flux = np.any(flux_ < 0, axis=1)\n",
    "            \n",
    "#             # flag eb sampleids\n",
    "#             eb_union = np.union1d(gt_sector[sector][\"eb\"][\"sampleids\"], \n",
    "#                                   gt_sector[sector][\"beb\"][\"sampleids\"])\n",
    "#             eb_sample = np.array([(s_id in eb_union) for s_id in batch_ids])\n",
    "            \n",
    "#             reject = (neg_flux | eb_sample)\n",
    "            \n",
    "#             # flag test samples\n",
    "#             test_sample = np.array([(s_id in test_sampleids['all']) for s_id in batch_ids])\n",
    "#             test = test_sample & (~reject)\n",
    "            \n",
    "#             # exclude neg flux and eb samples and test samples\n",
    "#             keep = ~(neg_flux | eb_sample | test_sample)\n",
    "            \n",
    "#             for store_path, msk in zip([train_path, test_path, reject_path], [keep, test, reject]):\n",
    "#                 reduced_batch = {\"time\":time_all[msk],\"flux\":flux_all[msk],\n",
    "#                                  \"mom_col\":mom_col_all[msk], \"mom_row\":mom_row_all[msk], \n",
    "#                                  \"quality\":q_all[msk], \"sampleids\":batch_ids[msk]}\n",
    "            \n",
    "#                 with open(store_path + \"/\" + fname, \"wb\") as f:\n",
    "#                     pickle.dump(reduced_batch, f)\n",
    "            \n",
    "#         except:\n",
    "#             raise"
   ]
  },
  {
   "cell_type": "code",
   "execution_count": 28,
   "metadata": {},
   "outputs": [],
   "source": [
    "# # fnames = [\"basic_processed\", \"outlier_processed\", \"outlier_flat_processed\", \"flat_processed\"]\n",
    "# fnames = [\"outlier2_flat_processed\"]\n",
    "# # settings = [(0,0), (1,0), (1,1), (0,1)]\n",
    "# settings = [(1,1)]\n",
    "\n",
    "# for (clip_outliers, low_risk_flatten), processed_fname in zip(settings, fnames):\n",
    "\n",
    "#     np.random.seed(42)\n",
    "#     for sector in [1,2,3,4]:\n",
    "#         sector_path = BASE_PATH + SECTOR[sector]\n",
    "\n",
    "#         seg_size = 1500\n",
    "#         raw_path = sector_path+'/raw_batches/train'\n",
    "#         processed_path = sector_path+'/'+processed_fname\n",
    "#         utils.make_dir(processed_path)\n",
    "\n",
    "#         batch_dnames = [\"flux\", \"mask\", \"rdepth\", \"mom_col\", \"mom_row\"]\n",
    "#         def _get_empty_seg_dic():\n",
    "#             data_dic = {d:np.zeros((0, seg_size)) for d in batch_dnames}\n",
    "#             data_dic[\"mask\"] = data_dic[\"mask\"].astype(bool)\n",
    "#             data_dic[\"sigma\"] = np.zeros(0)\n",
    "#             return data_dic\n",
    "\n",
    "#         pbar = tqdm(os.listdir(raw_path))\n",
    "#         for fname in pbar:\n",
    "#             try:\n",
    "#                 batch = dl.load_data(raw_path+\"/\"+fname, unpack=[\"time\",\"flux\",\"mom_col\",\"mom_row\",\n",
    "#                                                                  \"quality\",\"sampleids\"])\n",
    "#                 time_all, flux_all, mom_col_all, mom_row_all, q_all, batch_ids = batch\n",
    "#                 if time_all is None:\n",
    "#                     continue\n",
    "\n",
    "#                 # apply quality mask (remove flagged cadences)\n",
    "#                 q_msk = (q_all & DEFAULT_BITMASK) > 0\n",
    "#                 time_all[q_msk] = np.nan\n",
    "\n",
    "#                 # remove elements where flux==0 or time==nan\n",
    "#                 time_all[flux_all==0] = np.nan\n",
    "#                 nans_all = np.isnan(time_all)\n",
    "#                 flux_all[nans_all] = np.nan\n",
    "                \n",
    "#                 # remove lcs with only nan values\n",
    "#                 keep = ~(nans_all.all(1))\n",
    "#                 time_all, flux_all = time_all[keep], flux_all[keep]\n",
    "#                 mom_col_all, mom_row_all = mom_col_all[keep], mom_row_all[keep]\n",
    "#                 q_all, batch_ids = q_all[keep], batch_ids[keep]\n",
    "                \n",
    "\n",
    "#                 # median normalize flux\n",
    "#                 flux_median = np.nanmedian(flux_all, 1)\n",
    "#                 flux_all = flux_all/flux_median[:,None]\n",
    "\n",
    "#                 # center centroids\n",
    "#                 mom_col_all = (mom_col_all - np.nanmean(mom_col_all, 1)[:,None])\n",
    "#                 mom_row_all = (mom_row_all - np.nanmean(mom_row_all, 1)[:,None])\n",
    "\n",
    "#                 data_final = _get_empty_seg_dic()\n",
    "\n",
    "#                 # make each sample uniform in time, then split and select\n",
    "#                 for i, sampleid in enumerate(batch_ids):\n",
    "#                     if i % 50 == 0:\n",
    "#                         data_accept = _get_empty_seg_dic()\n",
    "\n",
    "#                     # remove nan values and index arrays\n",
    "#                     nans = nans_all[i]\n",
    "#                     time, flux = time_all[i][~nans], flux_all[i][~nans] \n",
    "#                     mom_col, mom_row = mom_col_all[i][~nans], mom_row_all[i][~nans]\n",
    "\n",
    "#                     # clip outliers from flattened lc (small window so we dont clip out transits)\n",
    "#                     flat = flatten(time, flux, method=\"median\", window_length=utils.min2day(30))\n",
    "#                     clip = np.zeros_like(flat, dtype=bool)\n",
    "#                     if clip_outliers:\n",
    "#                         with warnings.catch_warnings():\n",
    "#                             warnings.simplefilter(\"ignore\")\n",
    "#                             clip = sigma_clip(flat, sigma_lower=12, sigma_upper=6).mask\n",
    "#                         time, flux = time[~clip], flux[~clip]\n",
    "#                         mom_col, mom_row = mom_col[~clip], mom_row[~clip]\n",
    "\n",
    "#                     # estimate noise for scaling, using flattened curve\n",
    "#                     sigma_est = np.std(flat[~clip])\n",
    "\n",
    "#                     # make uniform (~2 min cadence), and fill in \"nan\" data values for new time steps\n",
    "#                     time, (flux, mom_col, mom_row) = dp.uniform_time(time, [flux, mom_col, mom_row])\n",
    "\n",
    "#                     # low-risk flattening -- to make sure nn input has better range\n",
    "#                     if low_risk_flatten:\n",
    "#                         flux = flatten(time, flux, method='savgol', cval=2, window_length=2881, break_tolerance=0.5)\n",
    "\n",
    "#                     # create transit masks and label time steps using transit params (for splitting)\n",
    "#                     pl_masks, mask, overlap, rdepth, tr_n = get_transit_masks(time, \n",
    "#                                                                 gt_sector[sector][\"pl\"][\"params\"][sampleid], \n",
    "#                                                                 sigma_est, incl_params=True)\n",
    "\n",
    "#                     # split lc into segments\n",
    "#                     dnames = batch_dnames + [\"overlap\", \"tr_n\"]\n",
    "#                     data = [eval(d) for d in dnames]\n",
    "#                     time_seg, data_seg = split_lightcurve(time, data, size=seg_size, step=509, info=0)\n",
    "#                     data_seg = {d:data_seg[di] for di, d in enumerate(dnames)}\n",
    "\n",
    "#                     # filter segments\n",
    "#                     rejected = evaluate_segments(data_seg, depth_range=(0.25,10), snr_range=(3,1e9), \n",
    "#                                                  duration_range=(utils.hour2day(1),utils.hour2day(13)))\n",
    "#                     for d in data_accept:\n",
    "#                         if d == \"sigma\":\n",
    "#                             data_accept[d] = np.concatenate((data_accept[d], sigma_est*np.ones((~rejected).sum())))\n",
    "#                         else:\n",
    "#                             data_accept[d] = np.vstack((data_accept[d], data_seg[d][~rejected]))\n",
    "\n",
    "#                     if (i+1) % 50 == 0 or (i+1) == len(batch_ids):\n",
    "#                         tr = data_accept[\"mask\"].any(1)\n",
    "#                         non_tr = np.random.choice(np.where(~tr)[0], size=tr.sum(), replace=False)\n",
    "#                         for d in data_accept:\n",
    "#                             if d == \"sigma\":\n",
    "#                                 balanced = np.concatenate((data_accept[d][tr], data_accept[d][non_tr]))\n",
    "#                                 data_final[d] = np.concatenate((data_final[d], balanced))\n",
    "#                             else:\n",
    "#                                 balanced = np.vstack((data_accept[d][tr], data_accept[d][non_tr]))\n",
    "#                                 data_final[d] = np.vstack((data_final[d], balanced))\n",
    "#                 # save data_final\n",
    "#                 with open(processed_path+\"/\"+fname, \"wb\") as f:\n",
    "#                     pickle.dump(data_final, f)\n",
    "\n",
    "#             except:\n",
    "#                 pbar.close()\n",
    "#                 raise"
   ]
  },
  {
   "cell_type": "code",
   "execution_count": 29,
   "metadata": {
    "scrolled": true
   },
   "outputs": [
    {
     "name": "stderr",
     "output_type": "stream",
     "text": [
      "  3%|▎         | 1/38 [00:00<00:06,  5.83it/s]"
     ]
    },
    {
     "name": "stdout",
     "output_type": "stream",
     "text": [
      "Making directory 'data/nn/lilith/outlier2_flat'\n",
      "Making directory 'data/nn/lilith/outlier2_flat/sector1'\n"
     ]
    },
    {
     "name": "stderr",
     "output_type": "stream",
     "text": [
      "100%|██████████| 38/38 [00:03<00:00, 10.85it/s]\n",
      "100%|██████████| 13/13 [00:02<00:00,  6.17it/s]\n",
      "100%|██████████| 13/13 [00:01<00:00, 11.23it/s]\n",
      "  5%|▌         | 2/38 [00:00<00:02, 15.77it/s]"
     ]
    },
    {
     "name": "stdout",
     "output_type": "stream",
     "text": [
      "Making directory 'data/nn/lilith/outlier2_flat/sector2'\n"
     ]
    },
    {
     "name": "stderr",
     "output_type": "stream",
     "text": [
      "100%|██████████| 38/38 [00:02<00:00, 13.91it/s]\n",
      "100%|██████████| 13/13 [00:01<00:00, 12.31it/s]\n",
      "100%|██████████| 13/13 [00:01<00:00, 12.23it/s]\n",
      "  5%|▌         | 2/38 [00:00<00:01, 19.99it/s]"
     ]
    },
    {
     "name": "stdout",
     "output_type": "stream",
     "text": [
      "Making directory 'data/nn/lilith/outlier2_flat/sector3'\n"
     ]
    },
    {
     "name": "stderr",
     "output_type": "stream",
     "text": [
      "100%|██████████| 38/38 [00:03<00:00,  9.96it/s]\n",
      "100%|██████████| 13/13 [00:01<00:00,  7.90it/s]\n",
      "100%|██████████| 13/13 [00:01<00:00, 10.69it/s]\n",
      "  8%|▊         | 3/38 [00:00<00:02, 17.43it/s]"
     ]
    },
    {
     "name": "stdout",
     "output_type": "stream",
     "text": [
      "Making directory 'data/nn/lilith/outlier2_flat/sector4'\n"
     ]
    },
    {
     "name": "stderr",
     "output_type": "stream",
     "text": [
      "100%|██████████| 38/38 [00:04<00:00,  9.00it/s]\n",
      "100%|██████████| 13/13 [00:01<00:00,  9.26it/s]\n",
      "100%|██████████| 13/13 [00:01<00:00, 11.05it/s]\n"
     ]
    }
   ],
   "source": [
    "# # combine processed batches to train/valid/test sets for nn training\n",
    "\n",
    "# # fnames = [\"basic\", \"outlier\", \"outlier_flat\", \"flat_processed\"]\n",
    "# fnames = [\"outlier2_flat\"]\n",
    "# splitsizes = [38, 13, 13]\n",
    "# splitnames = [\"train\", \"valid\", \"test\"]\n",
    "# dnames = [\"flux\", \"mask\", \"rdepth\", \"mom_col\", \"mom_row\", \"sigma\"]\n",
    "\n",
    "# for processed_fname in fnames:\n",
    "#     for sector in [1,2,3,4]:\n",
    "#         sector_path = BASE_PATH + SECTOR[sector]\n",
    "#         store_path = \"data/nn/lilith/\"+processed_fname+SECTOR[sector]\n",
    "#         utils.make_dir(store_path)\n",
    "#         dir_fnames = os.listdir(sector_path+\"/\"+processed_fname+\"_processed\")\n",
    "#         bfnames = np.array([fnm for fnm in dir_fnames if not fnm.startswith(\".\")])\n",
    "#         np.random.seed(sector)\n",
    "#         np.random.shuffle(bfnames)\n",
    "\n",
    "#         for split_i, split in enumerate(splitnames):\n",
    "#             splitdata = {d:[] for d in dnames}\n",
    "#             start = sum(splitsizes[:split_i])\n",
    "#             pbar = tqdm(bfnames[start:start+splitsizes[split_i]])\n",
    "#             for fname in pbar:\n",
    "#                 try:\n",
    "#                     with open(sector_path+\"/\"+processed_fname+\"_processed/\"+fname, \"rb\") as f:\n",
    "#                         batch = pickle.load(f)\n",
    "#                     for d in dnames:\n",
    "#                         splitdata[d].append(batch[d])\n",
    "#                 except:\n",
    "#                     pbar.close()\n",
    "#                     raise\n",
    "#             for d in dnames:\n",
    "#                 if d == \"sigma\":\n",
    "#                     splitdata[d] = np.concatenate(splitdata[d])\n",
    "#                 else:\n",
    "#                     splitdata[d] = np.vstack(splitdata[d])\n",
    "#             splitdata[\"transit\"] = splitdata[\"mask\"].any(1)\n",
    "#             with open(store_path + \"/\" + split, \"wb\") as f:\n",
    "#                 pickle.dump(splitdata, f)"
   ]
  },
  {
   "cell_type": "code",
   "execution_count": null,
   "metadata": {},
   "outputs": [],
   "source": []
  },
  {
   "cell_type": "code",
   "execution_count": null,
   "metadata": {},
   "outputs": [],
   "source": []
  },
  {
   "cell_type": "code",
   "execution_count": 20,
   "metadata": {},
   "outputs": [
    {
     "data": {
      "text/plain": [
       "'/sector4'"
      ]
     },
     "execution_count": 20,
     "metadata": {},
     "output_type": "execute_result"
    }
   ],
   "source": [
    "SECTOR[sector]"
   ]
  },
  {
   "cell_type": "code",
   "execution_count": null,
   "metadata": {},
   "outputs": [],
   "source": []
  },
  {
   "cell_type": "code",
   "execution_count": 26,
   "metadata": {},
   "outputs": [],
   "source": []
  },
  {
   "cell_type": "markdown",
   "metadata": {},
   "source": [
    "## Planet parameter distributions"
   ]
  },
  {
   "cell_type": "code",
   "execution_count": 27,
   "metadata": {},
   "outputs": [],
   "source": [
    "# \"stretch\" because the lists don't correspond to sampleids anymore\n",
    "pl_stats = {s:[] for s in [\"ror_stretch\", \"depth_stretch\", \"duration_stretch\", \"orb_period_stretch\"]}\n",
    "lc_stats = {**lc_stats, **{s+\"_stretch\":[] for s in lc_stats}}\n",
    "for i, sampleid in enumerate(sampleids):\n",
    "    for pl in pl_data[sampleid]:\n",
    "        for s in [\"ror\", \"depth\", \"duration\", \"orb_period\"]:\n",
    "            pl_stats[s+\"_stretch\"].append(pl_data[sampleid][pl][s])\n",
    "        for s in lc_statnames:\n",
    "            lc_stats[s+\"_stretch\"].append(lc_stats[s][i])\n",
    "for s in pl_stats:\n",
    "    pl_stats[s] = np.array(pl_stats[s])\n",
    "for s in lc_stats:\n",
    "    lc_stats[s] = np.array(lc_stats[s])"
   ]
  },
  {
   "cell_type": "code",
   "execution_count": 321,
   "metadata": {},
   "outputs": [
    {
     "data": {
      "image/png": "[encoded data removed]",
      "text/plain": [
       "<Figure size 936x180 with 3 Axes>"
      ]
     },
     "metadata": {
      "needs_background": "light"
     },
     "output_type": "display_data"
    },
    {
     "data": {
      "image/png": "[encoded data removed]",
      "text/plain": [
       "<Figure size 936x540 with 9 Axes>"
      ]
     },
     "metadata": {
      "needs_background": "light"
     },
     "output_type": "display_data"
    }
   ],
   "source": [
    "def plot_hist(data_array, lims=None, bins=20, xlbl=\"\", title=\"\", histtype=\"bar\", labels=None): \n",
    "    plt.hist(data_array, range=lims, bins=bins, histtype=histtype, label=labels)\n",
    "    plt.title(title, fontsize=14)\n",
    "    plt.xlabel(xlbl, fontsize=14)\n",
    "    plt.ylabel(\"# samples\", fontsize=14)\n",
    "    plt.xticks(fontsize=14), plt.yticks(fontsize=14)\n",
    "    \n",
    "\n",
    "plt.figure(figsize=(13,2.5))\n",
    "plt.subplot(1,3,1)\n",
    "plot_hist(pl_stats[\"duration_stretch\"]*24, (0,24), 20, \"Transit duration (hours)\")\n",
    "\n",
    "plt.subplot(1,3,2)\n",
    "plot_hist(pl_stats[\"orb_period_stretch\"], (0,200), 30, \"Period (days)\")\n",
    "\n",
    "plt.subplot(1,3,3)\n",
    "plt.scatter(pl_stats[\"depth_stretch\"], pl_stats[\"ror_stretch\"]**2-pl_stats[\"depth_stretch\"])\n",
    "plt.axhline(0, color=\"black\", alpha=0.5, zorder=0)\n",
    "plt.xlabel(\"$\\delta$\", fontsize=14), plt.ylabel(\"ror$^2$ - $\\delta$\", fontsize=14)\n",
    "plt.xticks(fontsize=14), plt.yticks(fontsize=14)\n",
    "plt.tight_layout()\n",
    "plt.show()\n",
    "\n",
    "w, h = 3, 3\n",
    "ylims1 = (0,800)\n",
    "ylims2 = (0,410)\n",
    "ylims3 = (0,1800)\n",
    "bins=20\n",
    "plt.figure(figsize=(13, h*2.5))\n",
    "n = pl_stats[\"duration_stretch\"] / (2./60/24)\n",
    "\n",
    "plt.subplot(h,w,1)\n",
    "plt.ylim(ylims1[0], ylims1[1])\n",
    "d_over_s = pl_stats[\"depth_stretch\"]/lc_stats[\"std_est_stretch\"]\n",
    "plot_hist(d_over_s, (0,3), 30, \"$\\delta$ / $\\sigma_{est}$\")\n",
    "plt.subplot(h,w,2)\n",
    "plt.ylim(ylims2[0], ylims2[1])\n",
    "plot_hist(d_over_s * np.sqrt(n), (0,10), bins, \"$\\delta$ / $\\sigma_{est}$ $\\cdot$ $\\sqrt{n}$\")\n",
    "plt.subplot(h,w,3)\n",
    "plt.ylim(ylims3[0], ylims3[1])\n",
    "plot_hist(d_over_s * np.sqrt(n), (0,50), bins, \"$\\delta$ / $\\sigma_{est}$ $\\cdot$ $\\sqrt{n}$\")\n",
    "\n",
    "plt.subplot(h,w,4)\n",
    "plt.ylim(ylims1[0], ylims1[1])\n",
    "d_over_s = pl_stats[\"depth_stretch\"]/lc_stats[\"mad_est_stretch\"]\n",
    "plot_hist(d_over_s, (0,3), 30, \"$\\delta$ / mad$_{est}$\")\n",
    "plt.subplot(h,w,5)\n",
    "plt.ylim(ylims2[0], ylims2[1])\n",
    "plot_hist(d_over_s * np.sqrt(n), (0,10), bins, \"$\\delta$ /  mad$_{est}$ $\\cdot$ $\\sqrt{n}$\")\n",
    "plt.subplot(h,w,6)\n",
    "plt.ylim(ylims3[0], ylims3[1])\n",
    "plot_hist(d_over_s * np.sqrt(n), (0,50), bins, \"$\\delta$ / mad$_{est}$ $\\cdot$ $\\sqrt{n}$\")\n",
    "\n",
    "plt.subplot(h,w,7)\n",
    "d_over_s = pl_stats[\"depth_stretch\"]/lc_stats[\"err_med_stretch\"]\n",
    "plt.ylim(ylims1[0], ylims1[1])\n",
    "plot_hist(d_over_s, (0,3), 30, \"$\\delta$ / med(flux_err)\")\n",
    "plt.subplot(h,w,8)\n",
    "plt.ylim(ylims2[0], ylims2[1])\n",
    "plot_hist(d_over_s * np.sqrt(n), (0,10), bins, \"$\\delta$ / med(flux_err) $\\cdot$ $\\sqrt{n}$\")\n",
    "plt.subplot(h,w,9)\n",
    "plt.ylim(ylims3[0], ylims3[1])\n",
    "plot_hist(d_over_s * np.sqrt(n), (0,50), bins, \"$\\delta$ / med(flux_err) $\\cdot$ $\\sqrt{n}$\")\n",
    "\n",
    "plt.tight_layout()\n",
    "plt.show()"
   ]
  },
  {
   "cell_type": "code",
   "execution_count": 225,
   "metadata": {},
   "outputs": [
    {
     "name": "stderr",
     "output_type": "stream",
     "text": [
      "  0%|          | 0/32 [00:01<?, ?it/s]\n"
     ]
    }
   ],
   "source": [
    "batch_size = 500\n",
    "pbar = tqdm(range(int(16000 / batch_size)))\n",
    "for i in pbar:\n",
    "    load_fname = str(i*batch_size).zfill(5)+\"-\"+str((i+1)*batch_size-1).zfill(5)\n",
    "    with open(PATH_LILITH+\"/pickles/raw_batches/\"+load_fname, \"rb\") as f:\n",
    "        batch = pickle.load(f)\n",
    "    break\n",
    "pbar.close()"
   ]
  },
  {
   "cell_type": "code",
   "execution_count": null,
   "metadata": {},
   "outputs": [],
   "source": []
  },
  {
   "cell_type": "code",
   "execution_count": null,
   "metadata": {},
   "outputs": [],
   "source": [
    "save_size=500\n",
    "\n",
    "\n",
    "for i in pbar:\n",
    "    try:\n",
    "        batch_dict = {}\n",
    "        \n",
    "        for array in [\"time\", \"flux\", \"flux_err\", \"mom_col\", \"mom_row\"]:\n",
    "            load_fname = array+\"_\"+str(i*save_size).zfill(5)+\"-\"+str((i+1)*save_size-1).zfill(5)\n",
    "            with open(PATH_LILITH+\"/pickles/raw_batches/\"+array+\"/\"+load_fname, \"rb\") as f:\n",
    "                data_array = pickle.load(f)\n",
    "                batch_dict[array] = data_array\n",
    "        batch_dict[\"sampleids\"] = sampleids[i*save_size:(i+1)*save_size] \n",
    "        with open(PATH_LILITH+\"/pickles/raw_batches/\"+save_fname, \"wb\") as f:\n",
    "            pickle.dump(batch_dict, f)\n",
    "    except:\n",
    "        pbar.close()\n",
    "        raise"
   ]
  },
  {
   "cell_type": "code",
   "execution_count": null,
   "metadata": {},
   "outputs": [],
   "source": []
  },
  {
   "cell_type": "code",
   "execution_count": null,
   "metadata": {},
   "outputs": [],
   "source": []
  },
  {
   "cell_type": "code",
   "execution_count": 69,
   "metadata": {},
   "outputs": [],
   "source": [
    "# with open(PATH_LILITH + \"/pickles/nn_dsets/d1/train\", \"rb\") as f:\n",
    "#     train = pickle.load(f)\n",
    "with open(PATH_LILITH + \"/pickles/nn_dsets/d1/valid\", \"rb\") as f:\n",
    "    valid = pickle.load(f)"
   ]
  },
  {
   "cell_type": "code",
   "execution_count": 61,
   "metadata": {},
   "outputs": [],
   "source": []
  },
  {
   "cell_type": "code",
   "execution_count": 75,
   "metadata": {},
   "outputs": [
    {
     "data": {
      "image/png": "[encoded data removed]",
      "text/plain": [
       "<Figure size 936x144 with 5 Axes>"
      ]
     },
     "metadata": {
      "needs_background": "light"
     },
     "output_type": "display_data"
    },
    {
     "data": {
      "image/png": "[encoded data removed]",
      "text/plain": [
       "<Figure size 936x144 with 5 Axes>"
      ]
     },
     "metadata": {
      "needs_background": "light"
     },
     "output_type": "display_data"
    }
   ],
   "source": [
    "bins=10\n",
    "for dset in [train, valid]:\n",
    "    tr = dset[\"mask\"].any(1) \n",
    "    plt.figure(figsize=(13,2))\n",
    "    for i, rng in enumerate([(0.2,0.5),(0.5,1),(1,2),(2,4),(4,10)], 1):\n",
    "        plt.subplot(1,5,i)\n",
    "        plt.hist(np.max(dset[\"rel_depth\"][tr], axis=1), bins=bins, range=rng)\n",
    "    plt.tight_layout()\n",
    "    plt.show()"
   ]
  },
  {
   "cell_type": "code",
   "execution_count": 157,
   "metadata": {},
   "outputs": [
    {
     "name": "stderr",
     "output_type": "stream",
     "text": [
      "100%|██████████| 11775/11775 [01:44<00:00, 112.39it/s]\n"
     ]
    }
   ],
   "source": [
    "dset = train\n",
    "tr = dset[\"mask\"].any(1)\n",
    "lens = []\n",
    "pbar = tqdm(range(len(dset[\"flux\"][tr])))\n",
    "for i in pbar:\n",
    "    try:\n",
    "        indc = dp.separate_trues(dset[\"mask\"][tr][i])\n",
    "        lens.append([len(idc) for idc in indc])\n",
    "    except:\n",
    "        pbar.close()\n",
    "        raise"
   ]
  },
  {
   "cell_type": "code",
   "execution_count": null,
   "metadata": {},
   "outputs": [],
   "source": []
  },
  {
   "cell_type": "code",
   "execution_count": null,
   "metadata": {},
   "outputs": [],
   "source": [
    "dl.load(\"\")"
   ]
  },
  {
   "cell_type": "code",
   "execution_count": 241,
   "metadata": {},
   "outputs": [
    {
     "name": "stdout",
     "output_type": "stream",
     "text": [
      "02000-02249\n"
     ]
    }
   ],
   "source": [
    "i = 8\n",
    "\n",
    "fname = os.listdir(\"data/lilith/sector1/raw_batches/train\")[i]\n",
    "print(fname)"
   ]
  },
  {
   "cell_type": "code",
   "execution_count": 251,
   "metadata": {},
   "outputs": [],
   "source": [
    "batch = dl.load_data(\"data/lilith/sector1/raw_batches/train/\"+fname)"
   ]
  },
  {
   "cell_type": "code",
   "execution_count": 252,
   "metadata": {},
   "outputs": [
    {
     "data": {
      "text/plain": [
       "dict_keys(['time', 'flux', 'mom_col', 'mom_row', 'quality', 'sampleids'])"
      ]
     },
     "execution_count": 252,
     "metadata": {},
     "output_type": "execute_result"
    }
   ],
   "source": [
    "batch.keys()"
   ]
  },
  {
   "cell_type": "code",
   "execution_count": 253,
   "metadata": {},
   "outputs": [],
   "source": [
    "flux = batch[\"flux\"] / np.nanmedian(batch[\"flux\"], 1)[:,None]"
   ]
  },
  {
   "cell_type": "code",
   "execution_count": 254,
   "metadata": {},
   "outputs": [],
   "source": [
    "AttitudeTweak, SafeMode = 1, 2\n",
    "CoarsePoint, EarthPoint = 4, 8\n",
    "Argabrightening, Desat = 16, 32\n",
    "ApertureCosmic, ManualExclude = 64, 128 \n",
    "Discontinuity, ImpulsiveOutlier = 256, 512\n",
    "CollateralCosmic = 1024\n",
    "#: The first stray light flag is set manually by MIT based on visual inspection.\n",
    "#: The second stray light flag is set automatically by Ames/SPOC based on background level thresholds.\n",
    "Straylight, Straylight2 = 2048, 4096\n",
    "\n",
    "#: DEFAULT bitmask identifies all cadences which are definitely useless.\n",
    "DEFAULT_BITMASK = (AttitudeTweak | SafeMode | CoarsePoint | EarthPoint |\n",
    "                   Desat | ManualExclude)\n",
    "qmsk = (batch[\"quality\"] & DEFAULT_BITMASK) > 0\n",
    "flux[qmsk] = np.nan\n",
    "flux[np.isnan(batch[\"time\"])] = np.nan"
   ]
  },
  {
   "cell_type": "code",
   "execution_count": 255,
   "metadata": {},
   "outputs": [
    {
     "data": {
      "text/plain": [
       "4.001388888888889"
      ]
     },
     "execution_count": 255,
     "metadata": {},
     "output_type": "execute_result"
    }
   ],
   "source": [
    "mx = np.nanmax(flux,1)\n",
    "np.argmax(mx)\n",
    "2881 * 2 / 60 / 24"
   ]
  },
  {
   "cell_type": "code",
   "execution_count": 265,
   "metadata": {},
   "outputs": [
    {
     "name": "stdout",
     "output_type": "stream",
     "text": [
      "80\n"
     ]
    }
   ],
   "source": [
    "i = 80\n",
    "print(i)\n",
    "nan = np.isnan(flux[i])\n",
    "# f_, trend = flatten(batch[\"time\"][i], flux[i], method=\"savgol\",\n",
    "#                     window_length=2881,  return_trend=1, cval=2)\n",
    "# f_, trend = flatten(batch[\"time\"][i], flux[i],   \n",
    "#     method='rspline',\n",
    "#     window_length=3,    # The knot distance in units of ``time``\n",
    "#     break_tolerance=0.5,  # Split into segments at breaks longer than that\n",
    "#     return_trend=True,    # Return trend and flattened light curve\n",
    "#     )\n",
    "# f_, trend = flatten(batch[\"time\"][i], flux[i],\n",
    "f_, trend = flatten(t, f,\n",
    "    method='savgol',\n",
    "    cval=2,               # Defines polyorder\n",
    "    window_length=2881,     # The window length in cadences\n",
    "    break_tolerance=0.5,  # Split into segments at breaks longer than that\n",
    "    return_trend=True,    # Return trend and flattened light curve\n",
    "    )\n"
   ]
  },
  {
   "cell_type": "code",
   "execution_count": 266,
   "metadata": {},
   "outputs": [
    {
     "data": {
      "text/plain": [
       "<matplotlib.collections.PathCollection at 0x15ed64cf8>"
      ]
     },
     "execution_count": 266,
     "metadata": {},
     "output_type": "execute_result"
    },
    {
     "data": {
      "image/png": "[encoded data removed]",
      "text/plain": [
       "<Figure size 1080x144 with 1 Axes>"
      ]
     },
     "metadata": {
      "needs_background": "light"
     },
     "output_type": "display_data"
    },
    {
     "data": {
      "image/png": "[encoded data removed]",
      "text/plain": [
       "<Figure size 1080x144 with 1 Axes>"
      ]
     },
     "metadata": {
      "needs_background": "light"
     },
     "output_type": "display_data"
    }
   ],
   "source": [
    "plt.figure(figsize=(15,2))\n",
    "plt.scatter(batch[\"time\"][i], flux[i], s=1, color=\"black\", alpha=0.3)\n",
    "# plt.plot(batch[\"time\"][i], trend, color=\"red\")\n",
    "plt.plot(t, trend, color=\"red\")\n",
    "\n",
    "plt.figure(figsize=(15,2))\n",
    "plt.scatter(batch[\"time\"][i], flux[i], s=1, color=\"orange\", alpha=0.2)\n",
    "# plt.scatter(batch[\"time\"][i], f_, s=1, color=\"black\", alpha=0.3)\n",
    "plt.scatter(t, f_, s=1, color=\"black\", alpha=0.3)"
   ]
  },
  {
   "cell_type": "code",
   "execution_count": 262,
   "metadata": {},
   "outputs": [
    {
     "data": {
      "text/plain": [
       "(259, 261)"
      ]
     },
     "execution_count": 262,
     "metadata": {},
     "output_type": "execute_result"
    }
   ],
   "source": [
    "np.isnan(batch[\"time\"][i]).sum(), np.isnan(flux[i]).sum()"
   ]
  },
  {
   "cell_type": "code",
   "execution_count": 263,
   "metadata": {},
   "outputs": [],
   "source": [
    "nans = np.isnan(flux[i])\n",
    "flux[i][nans] = np.nan"
   ]
  },
  {
   "cell_type": "code",
   "execution_count": 264,
   "metadata": {},
   "outputs": [],
   "source": [
    "t = batch[\"time\"][i][~nans]\n",
    "f = flux[i][~nans]"
   ]
  },
  {
   "cell_type": "code",
   "execution_count": null,
   "metadata": {},
   "outputs": [],
   "source": []
  }
 ],
 "metadata": {
  "kernelspec": {
   "display_name": "venv",
   "language": "python",
   "name": "venv"
  },
  "language_info": {
   "codemirror_mode": {
    "name": "ipython",
    "version": 3
   },
   "file_extension": ".py",
   "mimetype": "text/x-python",
   "name": "python",
   "nbconvert_exporter": "python",
   "pygments_lexer": "ipython3",
   "version": "3.6.10"
  }
 },
 "nbformat": 4,
 "nbformat_minor": 4
}
