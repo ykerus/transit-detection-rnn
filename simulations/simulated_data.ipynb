{
 "cells": [
  {
   "cell_type": "code",
   "execution_count": 39,
   "metadata": {},
   "outputs": [],
   "source": [
    "if \"descended\" not in locals():\n",
    "    descended = 1\n",
    "    %cd \"..\"\n",
    "    \n",
    "import utils\n",
    "import numpy as np\n",
    "import matplotlib.pyplot as plt\n",
    "\n",
    "from simulations import dataset_creation as dc\n",
    "from simulations import lightcurve_simulation as lcsim\n",
    "from dataloading.loading import load_data\n",
    "import visualize as vis"
   ]
  },
  {
   "cell_type": "code",
   "execution_count": 2,
   "metadata": {},
   "outputs": [],
   "source": [
    "N_points = 1500  # number of data points within generated light curves (2min cadence)\n",
    "generate_new = 0  # set to False if you want to skip generating new data\n",
    "\n",
    "splitnames = [\"train\", \"valid\", \"test\"]\n",
    "splitsizes = [15000, 5000, 5000]\n",
    "\n",
    "np.random.seed(42)\n",
    "if generate_new:\n",
    "    for split, size in zip(splitnames, splitsizes):\n",
    "          dc.generate_nn_dataset(split, size, N_points=N_points, rdepth_range=(0.25,10),\n",
    "          snr_range=(3,80), period_range=(2,200), dur_range=(0,utils.hour2day(13)),\n",
    "          pl_fracs=[0.5, 0.35, 0.15], base_dir=\"data/nn/sim\")"
   ]
  },
  {
   "cell_type": "code",
   "execution_count": 3,
   "metadata": {},
   "outputs": [],
   "source": [
    "N_points = 500  # number of data points within generated light curves (2min cadence)\n",
    "generate_new = 0  # set to False if you want to skip generating new data\n",
    "\n",
    "splitnames = [\"train\", \"valid\", \"test\"]\n",
    "splitsizes = [15000, 5000, 5000]\n",
    "\n",
    "np.random.seed(42)\n",
    "if generate_new:\n",
    "    for split, size in zip(splitnames, splitsizes):\n",
    "          dc.generate_nn_dataset(split, size, N_points=N_points, rdepth_range=(0.25,10),\n",
    "          snr_range=(3,80), period_range=(2,200), dur_range=(0,utils.hour2day(5.5)),\n",
    "          pl_fracs=[0.5, 0.5], base_dir=\"data/nn/sim500\")"
   ]
  },
  {
   "cell_type": "code",
   "execution_count": 40,
   "metadata": {},
   "outputs": [],
   "source": [
    "N_points = 1500  # number of data points within generated light curves (2min cadence)\n",
    "generate_new = 0  # set to False if you want to skip generating new data\n",
    "\n",
    "splitnames = [\"train\", \"valid\"]\n",
    "splitsizes = [9000, 3000]\n",
    "\n",
    "np.random.seed(42)\n",
    "if generate_new:\n",
    "    for split, size in zip(splitnames, splitsizes):\n",
    "          dc.generate_contrast_dataset(split, size, N_points=N_points, rdepth_range=(0.5,10),\n",
    "          snr_range=(3,80), period_range=(2,200), dur_range=(utils.hour2day(1),utils.hour2day(13)), \n",
    "          base_dir=\"data/nn/contrast\", lower_snr=False)"
   ]
  },
  {
   "cell_type": "code",
   "execution_count": 3,
   "metadata": {},
   "outputs": [],
   "source": [
    "generate_new = 0\n",
    "\n",
    "fname = \"monotransit\"\n",
    "size = 5000\n",
    "\n",
    "np.random.seed(42)\n",
    "if generate_new:\n",
    "    dc.generate_eval_dataset(fname, size, pl_fracs=[0.5,0.5], t_step=utils.min2day(2), snr_range=(3,80), \n",
    "                         rdepth_range=(.25,5), t_max=27.4, dur_range=(0,utils.hour2day(13)),\n",
    "                         period_range=(2,100), base_dir=\"data/eval/sim\", \n",
    "                         min_tr=1, max_tr=1, batch_save=250, lower_snr=False)"
   ]
  },
  {
   "cell_type": "code",
   "execution_count": 6,
   "metadata": {},
   "outputs": [],
   "source": [
    "generate_new = 0\n",
    "\n",
    "fname = \"singleplanet\"\n",
    "size = 5000\n",
    "\n",
    "np.random.seed(42)\n",
    "if generate_new:\n",
    "    dc.generate_eval_dataset(fname, size, pl_fracs=[0.5,0.5], t_step=utils.min2day(2), snr_range=(3,80), \n",
    "                         rdepth_range=(.25,5), t_max=27.4, dur_range=(0,utils.hour2day(13)),\n",
    "                         period_range=(2,100), base_dir=\"data/eval/sim\", \n",
    "                         min_tr=3, max_tr=50, batch_save=250, lower_snr=False)\n",
    "    \n",
    "    generate_new = 1\n",
    "\n",
    "fname = \"singleplanet\"\n",
    "size = 5000\n",
    "\n",
    "np.random.seed(42)\n",
    "if generate_new:\n",
    "    dc.generate_eval_dataset(fname, size, pl_fracs=[0.5,0.5], t_step=utils.min2day(2), snr_range=(3,80), \n",
    "                         rdepth_range=(.25,5), t_max=27.4, dur_range=(0,utils.hour2day(13)),\n",
    "                         period_range=(2,100), base_dir=\"data/eval/sim\", \n",
    "                         min_tr=3, max_tr=50, batch_save=250, lower_snr=False)"
   ]
  },
  {
   "cell_type": "code",
   "execution_count": null,
   "metadata": {},
   "outputs": [],
   "source": []
  }
 ],
 "metadata": {
  "kernelspec": {
   "display_name": "venv",
   "language": "python",
   "name": "venv"
  },
  "language_info": {
   "codemirror_mode": {
    "name": "ipython",
    "version": 3
   },
   "file_extension": ".py",
   "mimetype": "text/x-python",
   "name": "python",
   "nbconvert_exporter": "python",
   "pygments_lexer": "ipython3",
   "version": "3.6.10"
  }
 },
 "nbformat": 4,
 "nbformat_minor": 4
}
