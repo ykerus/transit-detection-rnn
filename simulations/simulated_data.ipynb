{
 "cells": [
  {
   "cell_type": "code",
   "execution_count": 5,
   "metadata": {},
   "outputs": [],
   "source": [
    "if \"descended\" not in locals():\n",
    "    descended = 1\n",
    "    %cd \"..\"\n",
    "    \n",
    "import utils\n",
    "import numpy as np\n",
    "\n",
    "from simulations import dataset_creation as dc\n",
    "from simulations import lightcurve_simulation as lcsim"
   ]
  },
  {
   "cell_type": "code",
   "execution_count": 3,
   "metadata": {},
   "outputs": [
    {
     "name": "stderr",
     "output_type": "stream",
     "text": [
      "  1%|          | 43/5000 [00:00<00:11, 429.29it/s]"
     ]
    },
    {
     "name": "stdout",
     "output_type": "stream",
     "text": [
      "Making directory 'data/nn'\n",
      "Making directory 'data/nn/sim'\n"
     ]
    },
    {
     "name": "stderr",
     "output_type": "stream",
     "text": [
      "100%|██████████| 5000/5000 [00:20<00:00, 243.77it/s]\n",
      "100%|██████████| 3000/3000 [00:12<00:00, 238.71it/s]\n",
      "100%|██████████| 1/1 [00:00<00:00, 117.38it/s]\n"
     ]
    }
   ],
   "source": [
    "N_points = 1500  # number of data points within generated light curves (2min cadence)\n",
    "generate_new = 0  # set to False if you want to skip generating new data\n",
    "\n",
    "splitnames = [\"train\", \"valid\", \"test\"]\n",
    "splitsizes = [15000, 5000, 5000]\n",
    "\n",
    "np.random.seed(42)\n",
    "if generate_new:\n",
    "    for split, size in zip(splitnames, splitsizes):\n",
    "          dc.generate_nn_dataset(split, size, N_points=N_points, rdepth_range=(0.25,10),\n",
    "          snr_range=(3,80), period_range=(2,200), dur_range=(0,utils.hour2day(13)),\n",
    "          base_dir=\"data/nn/sim\")"
   ]
  },
  {
   "cell_type": "code",
   "execution_count": null,
   "metadata": {},
   "outputs": [],
   "source": []
  }
 ],
 "metadata": {
  "kernelspec": {
   "display_name": "venv",
   "language": "python",
   "name": "venv"
  },
  "language_info": {
   "codemirror_mode": {
    "name": "ipython",
    "version": 3
   },
   "file_extension": ".py",
   "mimetype": "text/x-python",
   "name": "python",
   "nbconvert_exporter": "python",
   "pygments_lexer": "ipython3",
   "version": "3.6.10"
  }
 },
 "nbformat": 4,
 "nbformat_minor": 4
}
